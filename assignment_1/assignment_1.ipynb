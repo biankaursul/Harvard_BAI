<<<<<<< HEAD
{
  "nbformat": 4,
  "nbformat_minor": 0,
  "metadata": {
    "kernelspec": {
      "display_name": "bai",
      "language": "python",
      "name": "bai"
    },
    "language_info": {
      "codemirror_mode": {
        "name": "ipython",
        "version": 3
      },
      "file_extension": ".py",
      "mimetype": "text/x-python",
      "name": "python",
      "nbconvert_exporter": "python",
      "pygments_lexer": "ipython3",
      "version": "3.5.6"
    },
    "colab": {
      "name": "assignment_1.ipynb",
      "provenance": [],
      "collapsed_sections": [],
      "toc_visible": true
    },
    "accelerator": "GPU",
    "widgets": {
      "application/vnd.jupyter.widget-state+json": {
        "e21cafeae6ec4286bc7799dbbab25777": {
          "model_module": "@jupyter-widgets/controls",
          "model_name": "HBoxModel",
          "state": {
            "_view_name": "HBoxView",
            "_dom_classes": [],
            "_model_name": "HBoxModel",
            "_view_module": "@jupyter-widgets/controls",
            "_model_module_version": "1.5.0",
            "_view_count": null,
            "_view_module_version": "1.5.0",
            "box_style": "",
            "layout": "IPY_MODEL_32f60b8223e8408aa2e61753ae1a80f7",
            "_model_module": "@jupyter-widgets/controls",
            "children": [
              "IPY_MODEL_ac405ccc1f964df09ad8c32fa33453a4",
              "IPY_MODEL_3d50f5a26a834c86a88cbe428215f7a6"
            ]
          }
        },
        "32f60b8223e8408aa2e61753ae1a80f7": {
          "model_module": "@jupyter-widgets/base",
          "model_name": "LayoutModel",
          "state": {
            "_view_name": "LayoutView",
            "grid_template_rows": null,
            "right": null,
            "justify_content": null,
            "_view_module": "@jupyter-widgets/base",
            "overflow": null,
            "_model_module_version": "1.2.0",
            "_view_count": null,
            "flex_flow": null,
            "width": null,
            "min_width": null,
            "border": null,
            "align_items": null,
            "bottom": null,
            "_model_module": "@jupyter-widgets/base",
            "top": null,
            "grid_column": null,
            "overflow_y": null,
            "overflow_x": null,
            "grid_auto_flow": null,
            "grid_area": null,
            "grid_template_columns": null,
            "flex": null,
            "_model_name": "LayoutModel",
            "justify_items": null,
            "grid_row": null,
            "max_height": null,
            "align_content": null,
            "visibility": null,
            "align_self": null,
            "height": null,
            "min_height": null,
            "padding": null,
            "grid_auto_rows": null,
            "grid_gap": null,
            "max_width": null,
            "order": null,
            "_view_module_version": "1.2.0",
            "grid_template_areas": null,
            "object_position": null,
            "object_fit": null,
            "grid_auto_columns": null,
            "margin": null,
            "display": null,
            "left": null
          }
        },
        "ac405ccc1f964df09ad8c32fa33453a4": {
          "model_module": "@jupyter-widgets/controls",
          "model_name": "FloatProgressModel",
          "state": {
            "_view_name": "ProgressView",
            "style": "IPY_MODEL_9c361129a0784085baad558fb80a00a7",
            "_dom_classes": [],
            "description": "",
            "_model_name": "FloatProgressModel",
            "bar_style": "success",
            "max": 1,
            "_view_module": "@jupyter-widgets/controls",
            "_model_module_version": "1.5.0",
            "value": 1,
            "_view_count": null,
            "_view_module_version": "1.5.0",
            "orientation": "horizontal",
            "min": 0,
            "description_tooltip": null,
            "_model_module": "@jupyter-widgets/controls",
            "layout": "IPY_MODEL_0305ae80274c4e9cae46e534fea395c1"
          }
        },
        "3d50f5a26a834c86a88cbe428215f7a6": {
          "model_module": "@jupyter-widgets/controls",
          "model_name": "HTMLModel",
          "state": {
            "_view_name": "HTMLView",
            "style": "IPY_MODEL_ada20a19a15744eba8545ec45e187d54",
            "_dom_classes": [],
            "description": "",
            "_model_name": "HTMLModel",
            "placeholder": "​",
            "_view_module": "@jupyter-widgets/controls",
            "_model_module_version": "1.5.0",
            "value": " 9920512/? [00:02&lt;00:00, 3598111.08it/s]",
            "_view_count": null,
            "_view_module_version": "1.5.0",
            "description_tooltip": null,
            "_model_module": "@jupyter-widgets/controls",
            "layout": "IPY_MODEL_7ef0de881ab84cbbbe0f1cdbe93283ce"
          }
        },
        "9c361129a0784085baad558fb80a00a7": {
          "model_module": "@jupyter-widgets/controls",
          "model_name": "ProgressStyleModel",
          "state": {
            "_view_name": "StyleView",
            "_model_name": "ProgressStyleModel",
            "description_width": "initial",
            "_view_module": "@jupyter-widgets/base",
            "_model_module_version": "1.5.0",
            "_view_count": null,
            "_view_module_version": "1.2.0",
            "bar_color": null,
            "_model_module": "@jupyter-widgets/controls"
          }
        },
        "0305ae80274c4e9cae46e534fea395c1": {
          "model_module": "@jupyter-widgets/base",
          "model_name": "LayoutModel",
          "state": {
            "_view_name": "LayoutView",
            "grid_template_rows": null,
            "right": null,
            "justify_content": null,
            "_view_module": "@jupyter-widgets/base",
            "overflow": null,
            "_model_module_version": "1.2.0",
            "_view_count": null,
            "flex_flow": null,
            "width": null,
            "min_width": null,
            "border": null,
            "align_items": null,
            "bottom": null,
            "_model_module": "@jupyter-widgets/base",
            "top": null,
            "grid_column": null,
            "overflow_y": null,
            "overflow_x": null,
            "grid_auto_flow": null,
            "grid_area": null,
            "grid_template_columns": null,
            "flex": null,
            "_model_name": "LayoutModel",
            "justify_items": null,
            "grid_row": null,
            "max_height": null,
            "align_content": null,
            "visibility": null,
            "align_self": null,
            "height": null,
            "min_height": null,
            "padding": null,
            "grid_auto_rows": null,
            "grid_gap": null,
            "max_width": null,
            "order": null,
            "_view_module_version": "1.2.0",
            "grid_template_areas": null,
            "object_position": null,
            "object_fit": null,
            "grid_auto_columns": null,
            "margin": null,
            "display": null,
            "left": null
          }
        },
        "ada20a19a15744eba8545ec45e187d54": {
          "model_module": "@jupyter-widgets/controls",
          "model_name": "DescriptionStyleModel",
          "state": {
            "_view_name": "StyleView",
            "_model_name": "DescriptionStyleModel",
            "description_width": "",
            "_view_module": "@jupyter-widgets/base",
            "_model_module_version": "1.5.0",
            "_view_count": null,
            "_view_module_version": "1.2.0",
            "_model_module": "@jupyter-widgets/controls"
          }
        },
        "7ef0de881ab84cbbbe0f1cdbe93283ce": {
          "model_module": "@jupyter-widgets/base",
          "model_name": "LayoutModel",
          "state": {
            "_view_name": "LayoutView",
            "grid_template_rows": null,
            "right": null,
            "justify_content": null,
            "_view_module": "@jupyter-widgets/base",
            "overflow": null,
            "_model_module_version": "1.2.0",
            "_view_count": null,
            "flex_flow": null,
            "width": null,
            "min_width": null,
            "border": null,
            "align_items": null,
            "bottom": null,
            "_model_module": "@jupyter-widgets/base",
            "top": null,
            "grid_column": null,
            "overflow_y": null,
            "overflow_x": null,
            "grid_auto_flow": null,
            "grid_area": null,
            "grid_template_columns": null,
            "flex": null,
            "_model_name": "LayoutModel",
            "justify_items": null,
            "grid_row": null,
            "max_height": null,
            "align_content": null,
            "visibility": null,
            "align_self": null,
            "height": null,
            "min_height": null,
            "padding": null,
            "grid_auto_rows": null,
            "grid_gap": null,
            "max_width": null,
            "order": null,
            "_view_module_version": "1.2.0",
            "grid_template_areas": null,
            "object_position": null,
            "object_fit": null,
            "grid_auto_columns": null,
            "margin": null,
            "display": null,
            "left": null
          }
        },
        "d9ea91971f7241cd853ab054135221d4": {
          "model_module": "@jupyter-widgets/controls",
          "model_name": "HBoxModel",
          "state": {
            "_view_name": "HBoxView",
            "_dom_classes": [],
            "_model_name": "HBoxModel",
            "_view_module": "@jupyter-widgets/controls",
            "_model_module_version": "1.5.0",
            "_view_count": null,
            "_view_module_version": "1.5.0",
            "box_style": "",
            "layout": "IPY_MODEL_e2f25b90f9774219a9f4bde96ee77c58",
            "_model_module": "@jupyter-widgets/controls",
            "children": [
              "IPY_MODEL_dc6186eba72a4259bb7abcd99670a58a",
              "IPY_MODEL_a10de8ff068742d691427c3a07da6274"
            ]
          }
        },
        "e2f25b90f9774219a9f4bde96ee77c58": {
          "model_module": "@jupyter-widgets/base",
          "model_name": "LayoutModel",
          "state": {
            "_view_name": "LayoutView",
            "grid_template_rows": null,
            "right": null,
            "justify_content": null,
            "_view_module": "@jupyter-widgets/base",
            "overflow": null,
            "_model_module_version": "1.2.0",
            "_view_count": null,
            "flex_flow": null,
            "width": null,
            "min_width": null,
            "border": null,
            "align_items": null,
            "bottom": null,
            "_model_module": "@jupyter-widgets/base",
            "top": null,
            "grid_column": null,
            "overflow_y": null,
            "overflow_x": null,
            "grid_auto_flow": null,
            "grid_area": null,
            "grid_template_columns": null,
            "flex": null,
            "_model_name": "LayoutModel",
            "justify_items": null,
            "grid_row": null,
            "max_height": null,
            "align_content": null,
            "visibility": null,
            "align_self": null,
            "height": null,
            "min_height": null,
            "padding": null,
            "grid_auto_rows": null,
            "grid_gap": null,
            "max_width": null,
            "order": null,
            "_view_module_version": "1.2.0",
            "grid_template_areas": null,
            "object_position": null,
            "object_fit": null,
            "grid_auto_columns": null,
            "margin": null,
            "display": null,
            "left": null
          }
        },
        "dc6186eba72a4259bb7abcd99670a58a": {
          "model_module": "@jupyter-widgets/controls",
          "model_name": "FloatProgressModel",
          "state": {
            "_view_name": "ProgressView",
            "style": "IPY_MODEL_f5a6fc70e85b4dd49e53fe77c48174b8",
            "_dom_classes": [],
            "description": "",
            "_model_name": "FloatProgressModel",
            "bar_style": "success",
            "max": 1,
            "_view_module": "@jupyter-widgets/controls",
            "_model_module_version": "1.5.0",
            "value": 1,
            "_view_count": null,
            "_view_module_version": "1.5.0",
            "orientation": "horizontal",
            "min": 0,
            "description_tooltip": null,
            "_model_module": "@jupyter-widgets/controls",
            "layout": "IPY_MODEL_97bd4e13fe554ba59e69f6199de5ec88"
          }
        },
        "a10de8ff068742d691427c3a07da6274": {
          "model_module": "@jupyter-widgets/controls",
          "model_name": "HTMLModel",
          "state": {
            "_view_name": "HTMLView",
            "style": "IPY_MODEL_f759dced6eec4a26b7f685f071f4e979",
            "_dom_classes": [],
            "description": "",
            "_model_name": "HTMLModel",
            "placeholder": "​",
            "_view_module": "@jupyter-widgets/controls",
            "_model_module_version": "1.5.0",
            "value": " 32768/? [00:01&lt;00:00, 28574.21it/s]",
            "_view_count": null,
            "_view_module_version": "1.5.0",
            "description_tooltip": null,
            "_model_module": "@jupyter-widgets/controls",
            "layout": "IPY_MODEL_3ae45231da1e4fc1b890e76417454ace"
          }
        },
        "f5a6fc70e85b4dd49e53fe77c48174b8": {
          "model_module": "@jupyter-widgets/controls",
          "model_name": "ProgressStyleModel",
          "state": {
            "_view_name": "StyleView",
            "_model_name": "ProgressStyleModel",
            "description_width": "initial",
            "_view_module": "@jupyter-widgets/base",
            "_model_module_version": "1.5.0",
            "_view_count": null,
            "_view_module_version": "1.2.0",
            "bar_color": null,
            "_model_module": "@jupyter-widgets/controls"
          }
        },
        "97bd4e13fe554ba59e69f6199de5ec88": {
          "model_module": "@jupyter-widgets/base",
          "model_name": "LayoutModel",
          "state": {
            "_view_name": "LayoutView",
            "grid_template_rows": null,
            "right": null,
            "justify_content": null,
            "_view_module": "@jupyter-widgets/base",
            "overflow": null,
            "_model_module_version": "1.2.0",
            "_view_count": null,
            "flex_flow": null,
            "width": null,
            "min_width": null,
            "border": null,
            "align_items": null,
            "bottom": null,
            "_model_module": "@jupyter-widgets/base",
            "top": null,
            "grid_column": null,
            "overflow_y": null,
            "overflow_x": null,
            "grid_auto_flow": null,
            "grid_area": null,
            "grid_template_columns": null,
            "flex": null,
            "_model_name": "LayoutModel",
            "justify_items": null,
            "grid_row": null,
            "max_height": null,
            "align_content": null,
            "visibility": null,
            "align_self": null,
            "height": null,
            "min_height": null,
            "padding": null,
            "grid_auto_rows": null,
            "grid_gap": null,
            "max_width": null,
            "order": null,
            "_view_module_version": "1.2.0",
            "grid_template_areas": null,
            "object_position": null,
            "object_fit": null,
            "grid_auto_columns": null,
            "margin": null,
            "display": null,
            "left": null
          }
        },
        "f759dced6eec4a26b7f685f071f4e979": {
          "model_module": "@jupyter-widgets/controls",
          "model_name": "DescriptionStyleModel",
          "state": {
            "_view_name": "StyleView",
            "_model_name": "DescriptionStyleModel",
            "description_width": "",
            "_view_module": "@jupyter-widgets/base",
            "_model_module_version": "1.5.0",
            "_view_count": null,
            "_view_module_version": "1.2.0",
            "_model_module": "@jupyter-widgets/controls"
          }
        },
        "3ae45231da1e4fc1b890e76417454ace": {
          "model_module": "@jupyter-widgets/base",
          "model_name": "LayoutModel",
          "state": {
            "_view_name": "LayoutView",
            "grid_template_rows": null,
            "right": null,
            "justify_content": null,
            "_view_module": "@jupyter-widgets/base",
            "overflow": null,
            "_model_module_version": "1.2.0",
            "_view_count": null,
            "flex_flow": null,
            "width": null,
            "min_width": null,
            "border": null,
            "align_items": null,
            "bottom": null,
            "_model_module": "@jupyter-widgets/base",
            "top": null,
            "grid_column": null,
            "overflow_y": null,
            "overflow_x": null,
            "grid_auto_flow": null,
            "grid_area": null,
            "grid_template_columns": null,
            "flex": null,
            "_model_name": "LayoutModel",
            "justify_items": null,
            "grid_row": null,
            "max_height": null,
            "align_content": null,
            "visibility": null,
            "align_self": null,
            "height": null,
            "min_height": null,
            "padding": null,
            "grid_auto_rows": null,
            "grid_gap": null,
            "max_width": null,
            "order": null,
            "_view_module_version": "1.2.0",
            "grid_template_areas": null,
            "object_position": null,
            "object_fit": null,
            "grid_auto_columns": null,
            "margin": null,
            "display": null,
            "left": null
          }
        },
        "d412ad0ab5514d08889bdc226cbd88d5": {
          "model_module": "@jupyter-widgets/controls",
          "model_name": "HBoxModel",
          "state": {
            "_view_name": "HBoxView",
            "_dom_classes": [],
            "_model_name": "HBoxModel",
            "_view_module": "@jupyter-widgets/controls",
            "_model_module_version": "1.5.0",
            "_view_count": null,
            "_view_module_version": "1.5.0",
            "box_style": "",
            "layout": "IPY_MODEL_38a98a224df144dd97a7f7dea9011149",
            "_model_module": "@jupyter-widgets/controls",
            "children": [
              "IPY_MODEL_c163991a2bfc4c408383de06fcece49e",
              "IPY_MODEL_22ad5a1528504cec987a5283b68e8a1e"
            ]
          }
        },
        "38a98a224df144dd97a7f7dea9011149": {
          "model_module": "@jupyter-widgets/base",
          "model_name": "LayoutModel",
          "state": {
            "_view_name": "LayoutView",
            "grid_template_rows": null,
            "right": null,
            "justify_content": null,
            "_view_module": "@jupyter-widgets/base",
            "overflow": null,
            "_model_module_version": "1.2.0",
            "_view_count": null,
            "flex_flow": null,
            "width": null,
            "min_width": null,
            "border": null,
            "align_items": null,
            "bottom": null,
            "_model_module": "@jupyter-widgets/base",
            "top": null,
            "grid_column": null,
            "overflow_y": null,
            "overflow_x": null,
            "grid_auto_flow": null,
            "grid_area": null,
            "grid_template_columns": null,
            "flex": null,
            "_model_name": "LayoutModel",
            "justify_items": null,
            "grid_row": null,
            "max_height": null,
            "align_content": null,
            "visibility": null,
            "align_self": null,
            "height": null,
            "min_height": null,
            "padding": null,
            "grid_auto_rows": null,
            "grid_gap": null,
            "max_width": null,
            "order": null,
            "_view_module_version": "1.2.0",
            "grid_template_areas": null,
            "object_position": null,
            "object_fit": null,
            "grid_auto_columns": null,
            "margin": null,
            "display": null,
            "left": null
          }
        },
        "c163991a2bfc4c408383de06fcece49e": {
          "model_module": "@jupyter-widgets/controls",
          "model_name": "FloatProgressModel",
          "state": {
            "_view_name": "ProgressView",
            "style": "IPY_MODEL_a3b607aa795840efae192a2f4c863611",
            "_dom_classes": [],
            "description": "",
            "_model_name": "FloatProgressModel",
            "bar_style": "success",
            "max": 1,
            "_view_module": "@jupyter-widgets/controls",
            "_model_module_version": "1.5.0",
            "value": 1,
            "_view_count": null,
            "_view_module_version": "1.5.0",
            "orientation": "horizontal",
            "min": 0,
            "description_tooltip": null,
            "_model_module": "@jupyter-widgets/controls",
            "layout": "IPY_MODEL_0ce0675f5151446083c1d970c90b7dad"
          }
        },
        "22ad5a1528504cec987a5283b68e8a1e": {
          "model_module": "@jupyter-widgets/controls",
          "model_name": "HTMLModel",
          "state": {
            "_view_name": "HTMLView",
            "style": "IPY_MODEL_61a349b0740149658d8b4bdb398887c9",
            "_dom_classes": [],
            "description": "",
            "_model_name": "HTMLModel",
            "placeholder": "​",
            "_view_module": "@jupyter-widgets/controls",
            "_model_module_version": "1.5.0",
            "value": " 1654784/? [00:00&lt;00:00, 1987245.39it/s]",
            "_view_count": null,
            "_view_module_version": "1.5.0",
            "description_tooltip": null,
            "_model_module": "@jupyter-widgets/controls",
            "layout": "IPY_MODEL_d603168426674d428b8d65001e543430"
          }
        },
        "a3b607aa795840efae192a2f4c863611": {
          "model_module": "@jupyter-widgets/controls",
          "model_name": "ProgressStyleModel",
          "state": {
            "_view_name": "StyleView",
            "_model_name": "ProgressStyleModel",
            "description_width": "initial",
            "_view_module": "@jupyter-widgets/base",
            "_model_module_version": "1.5.0",
            "_view_count": null,
            "_view_module_version": "1.2.0",
            "bar_color": null,
            "_model_module": "@jupyter-widgets/controls"
          }
        },
        "0ce0675f5151446083c1d970c90b7dad": {
          "model_module": "@jupyter-widgets/base",
          "model_name": "LayoutModel",
          "state": {
            "_view_name": "LayoutView",
            "grid_template_rows": null,
            "right": null,
            "justify_content": null,
            "_view_module": "@jupyter-widgets/base",
            "overflow": null,
            "_model_module_version": "1.2.0",
            "_view_count": null,
            "flex_flow": null,
            "width": null,
            "min_width": null,
            "border": null,
            "align_items": null,
            "bottom": null,
            "_model_module": "@jupyter-widgets/base",
            "top": null,
            "grid_column": null,
            "overflow_y": null,
            "overflow_x": null,
            "grid_auto_flow": null,
            "grid_area": null,
            "grid_template_columns": null,
            "flex": null,
            "_model_name": "LayoutModel",
            "justify_items": null,
            "grid_row": null,
            "max_height": null,
            "align_content": null,
            "visibility": null,
            "align_self": null,
            "height": null,
            "min_height": null,
            "padding": null,
            "grid_auto_rows": null,
            "grid_gap": null,
            "max_width": null,
            "order": null,
            "_view_module_version": "1.2.0",
            "grid_template_areas": null,
            "object_position": null,
            "object_fit": null,
            "grid_auto_columns": null,
            "margin": null,
            "display": null,
            "left": null
          }
        },
        "61a349b0740149658d8b4bdb398887c9": {
          "model_module": "@jupyter-widgets/controls",
          "model_name": "DescriptionStyleModel",
          "state": {
            "_view_name": "StyleView",
            "_model_name": "DescriptionStyleModel",
            "description_width": "",
            "_view_module": "@jupyter-widgets/base",
            "_model_module_version": "1.5.0",
            "_view_count": null,
            "_view_module_version": "1.2.0",
            "_model_module": "@jupyter-widgets/controls"
          }
        },
        "d603168426674d428b8d65001e543430": {
          "model_module": "@jupyter-widgets/base",
          "model_name": "LayoutModel",
          "state": {
            "_view_name": "LayoutView",
            "grid_template_rows": null,
            "right": null,
            "justify_content": null,
            "_view_module": "@jupyter-widgets/base",
            "overflow": null,
            "_model_module_version": "1.2.0",
            "_view_count": null,
            "flex_flow": null,
            "width": null,
            "min_width": null,
            "border": null,
            "align_items": null,
            "bottom": null,
            "_model_module": "@jupyter-widgets/base",
            "top": null,
            "grid_column": null,
            "overflow_y": null,
            "overflow_x": null,
            "grid_auto_flow": null,
            "grid_area": null,
            "grid_template_columns": null,
            "flex": null,
            "_model_name": "LayoutModel",
            "justify_items": null,
            "grid_row": null,
            "max_height": null,
            "align_content": null,
            "visibility": null,
            "align_self": null,
            "height": null,
            "min_height": null,
            "padding": null,
            "grid_auto_rows": null,
            "grid_gap": null,
            "max_width": null,
            "order": null,
            "_view_module_version": "1.2.0",
            "grid_template_areas": null,
            "object_position": null,
            "object_fit": null,
            "grid_auto_columns": null,
            "margin": null,
            "display": null,
            "left": null
          }
        },
        "6b04c6d99f62418a9987817c68ac920f": {
          "model_module": "@jupyter-widgets/controls",
          "model_name": "HBoxModel",
          "state": {
            "_view_name": "HBoxView",
            "_dom_classes": [],
            "_model_name": "HBoxModel",
            "_view_module": "@jupyter-widgets/controls",
            "_model_module_version": "1.5.0",
            "_view_count": null,
            "_view_module_version": "1.5.0",
            "box_style": "",
            "layout": "IPY_MODEL_54d1d6fce16846b7a8ef0c994976ccd4",
            "_model_module": "@jupyter-widgets/controls",
            "children": [
              "IPY_MODEL_afd0e4e0cbd349ea990f12dc78bd0fc0",
              "IPY_MODEL_e1e7627a8c2742a0a25a62d6201921a5"
            ]
          }
        },
        "54d1d6fce16846b7a8ef0c994976ccd4": {
          "model_module": "@jupyter-widgets/base",
          "model_name": "LayoutModel",
          "state": {
            "_view_name": "LayoutView",
            "grid_template_rows": null,
            "right": null,
            "justify_content": null,
            "_view_module": "@jupyter-widgets/base",
            "overflow": null,
            "_model_module_version": "1.2.0",
            "_view_count": null,
            "flex_flow": null,
            "width": null,
            "min_width": null,
            "border": null,
            "align_items": null,
            "bottom": null,
            "_model_module": "@jupyter-widgets/base",
            "top": null,
            "grid_column": null,
            "overflow_y": null,
            "overflow_x": null,
            "grid_auto_flow": null,
            "grid_area": null,
            "grid_template_columns": null,
            "flex": null,
            "_model_name": "LayoutModel",
            "justify_items": null,
            "grid_row": null,
            "max_height": null,
            "align_content": null,
            "visibility": null,
            "align_self": null,
            "height": null,
            "min_height": null,
            "padding": null,
            "grid_auto_rows": null,
            "grid_gap": null,
            "max_width": null,
            "order": null,
            "_view_module_version": "1.2.0",
            "grid_template_areas": null,
            "object_position": null,
            "object_fit": null,
            "grid_auto_columns": null,
            "margin": null,
            "display": null,
            "left": null
          }
        },
        "afd0e4e0cbd349ea990f12dc78bd0fc0": {
          "model_module": "@jupyter-widgets/controls",
          "model_name": "FloatProgressModel",
          "state": {
            "_view_name": "ProgressView",
            "style": "IPY_MODEL_16c8e875514e41c69b9b31f7ae5253b4",
            "_dom_classes": [],
            "description": "  0%",
            "_model_name": "FloatProgressModel",
            "bar_style": "info",
            "max": 1,
            "_view_module": "@jupyter-widgets/controls",
            "_model_module_version": "1.5.0",
            "value": 0,
            "_view_count": null,
            "_view_module_version": "1.5.0",
            "orientation": "horizontal",
            "min": 0,
            "description_tooltip": null,
            "_model_module": "@jupyter-widgets/controls",
            "layout": "IPY_MODEL_c2371a0eb39b458495a55ff7b8f172d0"
          }
        },
        "e1e7627a8c2742a0a25a62d6201921a5": {
          "model_module": "@jupyter-widgets/controls",
          "model_name": "HTMLModel",
          "state": {
            "_view_name": "HTMLView",
            "style": "IPY_MODEL_a5cd42dffba94c56a90576ae045f4eef",
            "_dom_classes": [],
            "description": "",
            "_model_name": "HTMLModel",
            "placeholder": "​",
            "_view_module": "@jupyter-widgets/controls",
            "_model_module_version": "1.5.0",
            "value": " 0/4542 [00:00&lt;?, ?it/s]",
            "_view_count": null,
            "_view_module_version": "1.5.0",
            "description_tooltip": null,
            "_model_module": "@jupyter-widgets/controls",
            "layout": "IPY_MODEL_a3b43dce3ae64cc49bf4cf9721924eb5"
          }
        },
        "16c8e875514e41c69b9b31f7ae5253b4": {
          "model_module": "@jupyter-widgets/controls",
          "model_name": "ProgressStyleModel",
          "state": {
            "_view_name": "StyleView",
            "_model_name": "ProgressStyleModel",
            "description_width": "initial",
            "_view_module": "@jupyter-widgets/base",
            "_model_module_version": "1.5.0",
            "_view_count": null,
            "_view_module_version": "1.2.0",
            "bar_color": null,
            "_model_module": "@jupyter-widgets/controls"
          }
        },
        "c2371a0eb39b458495a55ff7b8f172d0": {
          "model_module": "@jupyter-widgets/base",
          "model_name": "LayoutModel",
          "state": {
            "_view_name": "LayoutView",
            "grid_template_rows": null,
            "right": null,
            "justify_content": null,
            "_view_module": "@jupyter-widgets/base",
            "overflow": null,
            "_model_module_version": "1.2.0",
            "_view_count": null,
            "flex_flow": null,
            "width": null,
            "min_width": null,
            "border": null,
            "align_items": null,
            "bottom": null,
            "_model_module": "@jupyter-widgets/base",
            "top": null,
            "grid_column": null,
            "overflow_y": null,
            "overflow_x": null,
            "grid_auto_flow": null,
            "grid_area": null,
            "grid_template_columns": null,
            "flex": null,
            "_model_name": "LayoutModel",
            "justify_items": null,
            "grid_row": null,
            "max_height": null,
            "align_content": null,
            "visibility": null,
            "align_self": null,
            "height": null,
            "min_height": null,
            "padding": null,
            "grid_auto_rows": null,
            "grid_gap": null,
            "max_width": null,
            "order": null,
            "_view_module_version": "1.2.0",
            "grid_template_areas": null,
            "object_position": null,
            "object_fit": null,
            "grid_auto_columns": null,
            "margin": null,
            "display": null,
            "left": null
          }
        },
        "a5cd42dffba94c56a90576ae045f4eef": {
          "model_module": "@jupyter-widgets/controls",
          "model_name": "DescriptionStyleModel",
          "state": {
            "_view_name": "StyleView",
            "_model_name": "DescriptionStyleModel",
            "description_width": "",
            "_view_module": "@jupyter-widgets/base",
            "_model_module_version": "1.5.0",
            "_view_count": null,
            "_view_module_version": "1.2.0",
            "_model_module": "@jupyter-widgets/controls"
          }
        },
        "a3b43dce3ae64cc49bf4cf9721924eb5": {
          "model_module": "@jupyter-widgets/base",
          "model_name": "LayoutModel",
          "state": {
            "_view_name": "LayoutView",
            "grid_template_rows": null,
            "right": null,
            "justify_content": null,
            "_view_module": "@jupyter-widgets/base",
            "overflow": null,
            "_model_module_version": "1.2.0",
            "_view_count": null,
            "flex_flow": null,
            "width": null,
            "min_width": null,
            "border": null,
            "align_items": null,
            "bottom": null,
            "_model_module": "@jupyter-widgets/base",
            "top": null,
            "grid_column": null,
            "overflow_y": null,
            "overflow_x": null,
            "grid_auto_flow": null,
            "grid_area": null,
            "grid_template_columns": null,
            "flex": null,
            "_model_name": "LayoutModel",
            "justify_items": null,
            "grid_row": null,
            "max_height": null,
            "align_content": null,
            "visibility": null,
            "align_self": null,
            "height": null,
            "min_height": null,
            "padding": null,
            "grid_auto_rows": null,
            "grid_gap": null,
            "max_width": null,
            "order": null,
            "_view_module_version": "1.2.0",
            "grid_template_areas": null,
            "object_position": null,
            "object_fit": null,
            "grid_auto_columns": null,
            "margin": null,
            "display": null,
            "left": null
          }
        },
        "6d3c415a80e947f09dd032c2b1d87781": {
          "model_module": "@jupyter-widgets/controls",
          "model_name": "ButtonModel",
          "state": {
            "_view_name": "ButtonView",
            "style": "IPY_MODEL_e7bdda6755174d2a97bdd9a649a6cf61",
            "_dom_classes": [],
            "description": "Read the function?\n Click me!",
            "_model_name": "ButtonModel",
            "button_style": "",
            "_view_module": "@jupyter-widgets/controls",
            "_model_module_version": "1.5.0",
            "tooltip": "",
            "_view_count": null,
            "disabled": false,
            "_view_module_version": "1.5.0",
            "layout": "IPY_MODEL_bfd40b1c0ff940818fa604900d28d440",
            "_model_module": "@jupyter-widgets/controls",
            "icon": ""
          }
        },
        "e7bdda6755174d2a97bdd9a649a6cf61": {
          "model_module": "@jupyter-widgets/controls",
          "model_name": "ButtonStyleModel",
          "state": {
            "_view_name": "StyleView",
            "_model_name": "ButtonStyleModel",
            "_view_module": "@jupyter-widgets/base",
            "_model_module_version": "1.5.0",
            "_view_count": null,
            "button_color": null,
            "font_weight": "",
            "_view_module_version": "1.2.0",
            "_model_module": "@jupyter-widgets/controls"
          }
        },
        "bfd40b1c0ff940818fa604900d28d440": {
          "model_module": "@jupyter-widgets/base",
          "model_name": "LayoutModel",
          "state": {
            "_view_name": "LayoutView",
            "grid_template_rows": null,
            "right": null,
            "justify_content": null,
            "_view_module": "@jupyter-widgets/base",
            "overflow": null,
            "_model_module_version": "1.2.0",
            "_view_count": null,
            "flex_flow": null,
            "width": "auto",
            "min_width": null,
            "border": null,
            "align_items": null,
            "bottom": null,
            "_model_module": "@jupyter-widgets/base",
            "top": null,
            "grid_column": null,
            "overflow_y": null,
            "overflow_x": null,
            "grid_auto_flow": null,
            "grid_area": null,
            "grid_template_columns": null,
            "flex": null,
            "_model_name": "LayoutModel",
            "justify_items": null,
            "grid_row": null,
            "max_height": null,
            "align_content": null,
            "visibility": null,
            "align_self": null,
            "height": "90px",
            "min_height": null,
            "padding": null,
            "grid_auto_rows": null,
            "grid_gap": null,
            "max_width": null,
            "order": null,
            "_view_module_version": "1.2.0",
            "grid_template_areas": null,
            "object_position": null,
            "object_fit": null,
            "grid_auto_columns": null,
            "margin": null,
            "display": null,
            "left": null
          }
        },
        "9a5fe8d2a809442c95a8c1876a98c3e9": {
          "model_module": "@jupyter-widgets/output",
          "model_name": "OutputModel",
          "state": {
            "_view_name": "OutputView",
            "msg_id": "",
            "_dom_classes": [],
            "_model_name": "OutputModel",
            "outputs": [
              {
                "output_type": "stream",
                "metadata": {
                  "tags": []
                },
                "text": "As you can see, the function simply returns an object of the class CustomCNN, which is defined in res/models/CustomCNN.py\nThis is our neural network model.\n",
                "stream": "stdout"
              }
            ],
            "_view_module": "@jupyter-widgets/output",
            "_model_module_version": "1.0.0",
            "_view_count": null,
            "_view_module_version": "1.0.0",
            "layout": "IPY_MODEL_a7a4b0de2794421d8fc3adda06c1b86d",
            "_model_module": "@jupyter-widgets/output"
          }
        },
        "a7a4b0de2794421d8fc3adda06c1b86d": {
          "model_module": "@jupyter-widgets/base",
          "model_name": "LayoutModel",
          "state": {
            "_view_name": "LayoutView",
            "grid_template_rows": null,
            "right": null,
            "justify_content": null,
            "_view_module": "@jupyter-widgets/base",
            "overflow": null,
            "_model_module_version": "1.2.0",
            "_view_count": null,
            "flex_flow": null,
            "width": null,
            "min_width": null,
            "border": null,
            "align_items": null,
            "bottom": null,
            "_model_module": "@jupyter-widgets/base",
            "top": null,
            "grid_column": null,
            "overflow_y": null,
            "overflow_x": null,
            "grid_auto_flow": null,
            "grid_area": null,
            "grid_template_columns": null,
            "flex": null,
            "_model_name": "LayoutModel",
            "justify_items": null,
            "grid_row": null,
            "max_height": null,
            "align_content": null,
            "visibility": null,
            "align_self": null,
            "height": null,
            "min_height": null,
            "padding": null,
            "grid_auto_rows": null,
            "grid_gap": null,
            "max_width": null,
            "order": null,
            "_view_module_version": "1.2.0",
            "grid_template_areas": null,
            "object_position": null,
            "object_fit": null,
            "grid_auto_columns": null,
            "margin": null,
            "display": null,
            "left": null
          }
        },
        "d92980abaf684860b85c590e689d45c4": {
          "model_module": "@jupyter-widgets/controls",
          "model_name": "HBoxModel",
          "state": {
            "_view_name": "HBoxView",
            "_dom_classes": [],
            "_model_name": "HBoxModel",
            "_view_module": "@jupyter-widgets/controls",
            "_model_module_version": "1.5.0",
            "_view_count": null,
            "_view_module_version": "1.5.0",
            "box_style": "",
            "layout": "IPY_MODEL_e009cbad3ab0427eb9b2029ec77b5348",
            "_model_module": "@jupyter-widgets/controls",
            "children": [
              "IPY_MODEL_ad44ed001350477fa6a398837f5c594c",
              "IPY_MODEL_4f93ec2ace934ff79f96d17fed67c1f9"
            ]
          }
        },
        "e009cbad3ab0427eb9b2029ec77b5348": {
          "model_module": "@jupyter-widgets/base",
          "model_name": "LayoutModel",
          "state": {
            "_view_name": "LayoutView",
            "grid_template_rows": null,
            "right": null,
            "justify_content": null,
            "_view_module": "@jupyter-widgets/base",
            "overflow": null,
            "_model_module_version": "1.2.0",
            "_view_count": null,
            "flex_flow": null,
            "width": null,
            "min_width": null,
            "border": null,
            "align_items": null,
            "bottom": null,
            "_model_module": "@jupyter-widgets/base",
            "top": null,
            "grid_column": null,
            "overflow_y": null,
            "overflow_x": null,
            "grid_auto_flow": null,
            "grid_area": null,
            "grid_template_columns": null,
            "flex": null,
            "_model_name": "LayoutModel",
            "justify_items": null,
            "grid_row": null,
            "max_height": null,
            "align_content": null,
            "visibility": null,
            "align_self": null,
            "height": null,
            "min_height": null,
            "padding": null,
            "grid_auto_rows": null,
            "grid_gap": null,
            "max_width": null,
            "order": null,
            "_view_module_version": "1.2.0",
            "grid_template_areas": null,
            "object_position": null,
            "object_fit": null,
            "grid_auto_columns": null,
            "margin": null,
            "display": null,
            "left": null
          }
        },
        "ad44ed001350477fa6a398837f5c594c": {
          "model_module": "@jupyter-widgets/controls",
          "model_name": "FloatProgressModel",
          "state": {
            "_view_name": "ProgressView",
            "style": "IPY_MODEL_972fd457a78b40a7876148cfed7443c0",
            "_dom_classes": [],
            "description": "100%",
            "_model_name": "FloatProgressModel",
            "bar_style": "success",
            "max": 6000,
            "_view_module": "@jupyter-widgets/controls",
            "_model_module_version": "1.5.0",
            "value": 6000,
            "_view_count": null,
            "_view_module_version": "1.5.0",
            "orientation": "horizontal",
            "min": 0,
            "description_tooltip": null,
            "_model_module": "@jupyter-widgets/controls",
            "layout": "IPY_MODEL_c38f989fb1f74431bcddaf0d63caa143"
          }
        },
        "4f93ec2ace934ff79f96d17fed67c1f9": {
          "model_module": "@jupyter-widgets/controls",
          "model_name": "HTMLModel",
          "state": {
            "_view_name": "HTMLView",
            "style": "IPY_MODEL_6f553aa27ab140019288b3524656f0a3",
            "_dom_classes": [],
            "description": "",
            "_model_name": "HTMLModel",
            "placeholder": "​",
            "_view_module": "@jupyter-widgets/controls",
            "_model_module_version": "1.5.0",
            "value": " 6000/6000 [00:50&lt;00:00, 119.23it/s]",
            "_view_count": null,
            "_view_module_version": "1.5.0",
            "description_tooltip": null,
            "_model_module": "@jupyter-widgets/controls",
            "layout": "IPY_MODEL_2a86694c2f1542c88e5310b293e5f57e"
          }
        },
        "972fd457a78b40a7876148cfed7443c0": {
          "model_module": "@jupyter-widgets/controls",
          "model_name": "ProgressStyleModel",
          "state": {
            "_view_name": "StyleView",
            "_model_name": "ProgressStyleModel",
            "description_width": "initial",
            "_view_module": "@jupyter-widgets/base",
            "_model_module_version": "1.5.0",
            "_view_count": null,
            "_view_module_version": "1.2.0",
            "bar_color": null,
            "_model_module": "@jupyter-widgets/controls"
          }
        },
        "c38f989fb1f74431bcddaf0d63caa143": {
          "model_module": "@jupyter-widgets/base",
          "model_name": "LayoutModel",
          "state": {
            "_view_name": "LayoutView",
            "grid_template_rows": null,
            "right": null,
            "justify_content": null,
            "_view_module": "@jupyter-widgets/base",
            "overflow": null,
            "_model_module_version": "1.2.0",
            "_view_count": null,
            "flex_flow": null,
            "width": null,
            "min_width": null,
            "border": null,
            "align_items": null,
            "bottom": null,
            "_model_module": "@jupyter-widgets/base",
            "top": null,
            "grid_column": null,
            "overflow_y": null,
            "overflow_x": null,
            "grid_auto_flow": null,
            "grid_area": null,
            "grid_template_columns": null,
            "flex": null,
            "_model_name": "LayoutModel",
            "justify_items": null,
            "grid_row": null,
            "max_height": null,
            "align_content": null,
            "visibility": null,
            "align_self": null,
            "height": null,
            "min_height": null,
            "padding": null,
            "grid_auto_rows": null,
            "grid_gap": null,
            "max_width": null,
            "order": null,
            "_view_module_version": "1.2.0",
            "grid_template_areas": null,
            "object_position": null,
            "object_fit": null,
            "grid_auto_columns": null,
            "margin": null,
            "display": null,
            "left": null
          }
        },
        "6f553aa27ab140019288b3524656f0a3": {
          "model_module": "@jupyter-widgets/controls",
          "model_name": "DescriptionStyleModel",
          "state": {
            "_view_name": "StyleView",
            "_model_name": "DescriptionStyleModel",
            "description_width": "",
            "_view_module": "@jupyter-widgets/base",
            "_model_module_version": "1.5.0",
            "_view_count": null,
            "_view_module_version": "1.2.0",
            "_model_module": "@jupyter-widgets/controls"
          }
        },
        "2a86694c2f1542c88e5310b293e5f57e": {
          "model_module": "@jupyter-widgets/base",
          "model_name": "LayoutModel",
          "state": {
            "_view_name": "LayoutView",
            "grid_template_rows": null,
            "right": null,
            "justify_content": null,
            "_view_module": "@jupyter-widgets/base",
            "overflow": null,
            "_model_module_version": "1.2.0",
            "_view_count": null,
            "flex_flow": null,
            "width": null,
            "min_width": null,
            "border": null,
            "align_items": null,
            "bottom": null,
            "_model_module": "@jupyter-widgets/base",
            "top": null,
            "grid_column": null,
            "overflow_y": null,
            "overflow_x": null,
            "grid_auto_flow": null,
            "grid_area": null,
            "grid_template_columns": null,
            "flex": null,
            "_model_name": "LayoutModel",
            "justify_items": null,
            "grid_row": null,
            "max_height": null,
            "align_content": null,
            "visibility": null,
            "align_self": null,
            "height": null,
            "min_height": null,
            "padding": null,
            "grid_auto_rows": null,
            "grid_gap": null,
            "max_width": null,
            "order": null,
            "_view_module_version": "1.2.0",
            "grid_template_areas": null,
            "object_position": null,
            "object_fit": null,
            "grid_auto_columns": null,
            "margin": null,
            "display": null,
            "left": null
          }
        },
        "e537d9a7ff174efaa2200351fa45272e": {
          "model_module": "@jupyter-widgets/controls",
          "model_name": "HBoxModel",
          "state": {
            "_view_name": "HBoxView",
            "_dom_classes": [],
            "_model_name": "HBoxModel",
            "_view_module": "@jupyter-widgets/controls",
            "_model_module_version": "1.5.0",
            "_view_count": null,
            "_view_module_version": "1.5.0",
            "box_style": "",
            "layout": "IPY_MODEL_676179d5f0bb439d8023a7c8a64f127f",
            "_model_module": "@jupyter-widgets/controls",
            "children": [
              "IPY_MODEL_de6d98318ef445ed81487565ba680834",
              "IPY_MODEL_3e07ff6d8ee24432a5db08358b09fe35"
            ]
          }
        },
        "676179d5f0bb439d8023a7c8a64f127f": {
          "model_module": "@jupyter-widgets/base",
          "model_name": "LayoutModel",
          "state": {
            "_view_name": "LayoutView",
            "grid_template_rows": null,
            "right": null,
            "justify_content": null,
            "_view_module": "@jupyter-widgets/base",
            "overflow": null,
            "_model_module_version": "1.2.0",
            "_view_count": null,
            "flex_flow": null,
            "width": null,
            "min_width": null,
            "border": null,
            "align_items": null,
            "bottom": null,
            "_model_module": "@jupyter-widgets/base",
            "top": null,
            "grid_column": null,
            "overflow_y": null,
            "overflow_x": null,
            "grid_auto_flow": null,
            "grid_area": null,
            "grid_template_columns": null,
            "flex": null,
            "_model_name": "LayoutModel",
            "justify_items": null,
            "grid_row": null,
            "max_height": null,
            "align_content": null,
            "visibility": null,
            "align_self": null,
            "height": null,
            "min_height": null,
            "padding": null,
            "grid_auto_rows": null,
            "grid_gap": null,
            "max_width": null,
            "order": null,
            "_view_module_version": "1.2.0",
            "grid_template_areas": null,
            "object_position": null,
            "object_fit": null,
            "grid_auto_columns": null,
            "margin": null,
            "display": null,
            "left": null
          }
        },
        "de6d98318ef445ed81487565ba680834": {
          "model_module": "@jupyter-widgets/controls",
          "model_name": "FloatProgressModel",
          "state": {
            "_view_name": "ProgressView",
            "style": "IPY_MODEL_d9c030d4a2e243a193e789911f5ef570",
            "_dom_classes": [],
            "description": "100%",
            "_model_name": "FloatProgressModel",
            "bar_style": "success",
            "max": 1000,
            "_view_module": "@jupyter-widgets/controls",
            "_model_module_version": "1.5.0",
            "value": 1000,
            "_view_count": null,
            "_view_module_version": "1.5.0",
            "orientation": "horizontal",
            "min": 0,
            "description_tooltip": null,
            "_model_module": "@jupyter-widgets/controls",
            "layout": "IPY_MODEL_ed4c3095b87640719b547f6ee0ccf6e6"
          }
        },
        "3e07ff6d8ee24432a5db08358b09fe35": {
          "model_module": "@jupyter-widgets/controls",
          "model_name": "HTMLModel",
          "state": {
            "_view_name": "HTMLView",
            "style": "IPY_MODEL_bd555ab1860846ae9b1e91ca473053b6",
            "_dom_classes": [],
            "description": "",
            "_model_name": "HTMLModel",
            "placeholder": "​",
            "_view_module": "@jupyter-widgets/controls",
            "_model_module_version": "1.5.0",
            "value": " 1000/1000 [00:56&lt;00:00, 17.76it/s]",
            "_view_count": null,
            "_view_module_version": "1.5.0",
            "description_tooltip": null,
            "_model_module": "@jupyter-widgets/controls",
            "layout": "IPY_MODEL_eaac3f8023f6470790063fa3c3b80794"
          }
        },
        "d9c030d4a2e243a193e789911f5ef570": {
          "model_module": "@jupyter-widgets/controls",
          "model_name": "ProgressStyleModel",
          "state": {
            "_view_name": "StyleView",
            "_model_name": "ProgressStyleModel",
            "description_width": "initial",
            "_view_module": "@jupyter-widgets/base",
            "_model_module_version": "1.5.0",
            "_view_count": null,
            "_view_module_version": "1.2.0",
            "bar_color": null,
            "_model_module": "@jupyter-widgets/controls"
          }
        },
        "ed4c3095b87640719b547f6ee0ccf6e6": {
          "model_module": "@jupyter-widgets/base",
          "model_name": "LayoutModel",
          "state": {
            "_view_name": "LayoutView",
            "grid_template_rows": null,
            "right": null,
            "justify_content": null,
            "_view_module": "@jupyter-widgets/base",
            "overflow": null,
            "_model_module_version": "1.2.0",
            "_view_count": null,
            "flex_flow": null,
            "width": null,
            "min_width": null,
            "border": null,
            "align_items": null,
            "bottom": null,
            "_model_module": "@jupyter-widgets/base",
            "top": null,
            "grid_column": null,
            "overflow_y": null,
            "overflow_x": null,
            "grid_auto_flow": null,
            "grid_area": null,
            "grid_template_columns": null,
            "flex": null,
            "_model_name": "LayoutModel",
            "justify_items": null,
            "grid_row": null,
            "max_height": null,
            "align_content": null,
            "visibility": null,
            "align_self": null,
            "height": null,
            "min_height": null,
            "padding": null,
            "grid_auto_rows": null,
            "grid_gap": null,
            "max_width": null,
            "order": null,
            "_view_module_version": "1.2.0",
            "grid_template_areas": null,
            "object_position": null,
            "object_fit": null,
            "grid_auto_columns": null,
            "margin": null,
            "display": null,
            "left": null
          }
        },
        "bd555ab1860846ae9b1e91ca473053b6": {
          "model_module": "@jupyter-widgets/controls",
          "model_name": "DescriptionStyleModel",
          "state": {
            "_view_name": "StyleView",
            "_model_name": "DescriptionStyleModel",
            "description_width": "",
            "_view_module": "@jupyter-widgets/base",
            "_model_module_version": "1.5.0",
            "_view_count": null,
            "_view_module_version": "1.2.0",
            "_model_module": "@jupyter-widgets/controls"
          }
        },
        "eaac3f8023f6470790063fa3c3b80794": {
          "model_module": "@jupyter-widgets/base",
          "model_name": "LayoutModel",
          "state": {
            "_view_name": "LayoutView",
            "grid_template_rows": null,
            "right": null,
            "justify_content": null,
            "_view_module": "@jupyter-widgets/base",
            "overflow": null,
            "_model_module_version": "1.2.0",
            "_view_count": null,
            "flex_flow": null,
            "width": null,
            "min_width": null,
            "border": null,
            "align_items": null,
            "bottom": null,
            "_model_module": "@jupyter-widgets/base",
            "top": null,
            "grid_column": null,
            "overflow_y": null,
            "overflow_x": null,
            "grid_auto_flow": null,
            "grid_area": null,
            "grid_template_columns": null,
            "flex": null,
            "_model_name": "LayoutModel",
            "justify_items": null,
            "grid_row": null,
            "max_height": null,
            "align_content": null,
            "visibility": null,
            "align_self": null,
            "height": null,
            "min_height": null,
            "padding": null,
            "grid_auto_rows": null,
            "grid_gap": null,
            "max_width": null,
            "order": null,
            "_view_module_version": "1.2.0",
            "grid_template_areas": null,
            "object_position": null,
            "object_fit": null,
            "grid_auto_columns": null,
            "margin": null,
            "display": null,
            "left": null
          }
        },
        "26cda75a725d479f9eadfbbd51a7c9f5": {
          "model_module": "@jupyter-widgets/controls",
          "model_name": "HBoxModel",
          "state": {
            "_view_name": "HBoxView",
            "_dom_classes": [],
            "_model_name": "HBoxModel",
            "_view_module": "@jupyter-widgets/controls",
            "_model_module_version": "1.5.0",
            "_view_count": null,
            "_view_module_version": "1.5.0",
            "box_style": "",
            "layout": "IPY_MODEL_a57ced5ba2524ebca6223ae088e7cbfc",
            "_model_module": "@jupyter-widgets/controls",
            "children": [
              "IPY_MODEL_86ab546b9b394db39461315a450ca275",
              "IPY_MODEL_a223684e72a942a09eee68bd1a903bbb"
            ]
          }
        },
        "a57ced5ba2524ebca6223ae088e7cbfc": {
          "model_module": "@jupyter-widgets/base",
          "model_name": "LayoutModel",
          "state": {
            "_view_name": "LayoutView",
            "grid_template_rows": null,
            "right": null,
            "justify_content": null,
            "_view_module": "@jupyter-widgets/base",
            "overflow": null,
            "_model_module_version": "1.2.0",
            "_view_count": null,
            "flex_flow": null,
            "width": null,
            "min_width": null,
            "border": null,
            "align_items": null,
            "bottom": null,
            "_model_module": "@jupyter-widgets/base",
            "top": null,
            "grid_column": null,
            "overflow_y": null,
            "overflow_x": null,
            "grid_auto_flow": null,
            "grid_area": null,
            "grid_template_columns": null,
            "flex": null,
            "_model_name": "LayoutModel",
            "justify_items": null,
            "grid_row": null,
            "max_height": null,
            "align_content": null,
            "visibility": null,
            "align_self": null,
            "height": null,
            "min_height": null,
            "padding": null,
            "grid_auto_rows": null,
            "grid_gap": null,
            "max_width": null,
            "order": null,
            "_view_module_version": "1.2.0",
            "grid_template_areas": null,
            "object_position": null,
            "object_fit": null,
            "grid_auto_columns": null,
            "margin": null,
            "display": null,
            "left": null
          }
        },
        "86ab546b9b394db39461315a450ca275": {
          "model_module": "@jupyter-widgets/controls",
          "model_name": "FloatProgressModel",
          "state": {
            "_view_name": "ProgressView",
            "style": "IPY_MODEL_5c55a575f3c74e3d90068af1f68ccaad",
            "_dom_classes": [],
            "description": "100%",
            "_model_name": "FloatProgressModel",
            "bar_style": "success",
            "max": 6000,
            "_view_module": "@jupyter-widgets/controls",
            "_model_module_version": "1.5.0",
            "value": 6000,
            "_view_count": null,
            "_view_module_version": "1.5.0",
            "orientation": "horizontal",
            "min": 0,
            "description_tooltip": null,
            "_model_module": "@jupyter-widgets/controls",
            "layout": "IPY_MODEL_9b0c1a7ecb5141f58e66cca8c29283a6"
          }
        },
        "a223684e72a942a09eee68bd1a903bbb": {
          "model_module": "@jupyter-widgets/controls",
          "model_name": "HTMLModel",
          "state": {
            "_view_name": "HTMLView",
            "style": "IPY_MODEL_9d78808ae1174114a26ee214f300294f",
            "_dom_classes": [],
            "description": "",
            "_model_name": "HTMLModel",
            "placeholder": "​",
            "_view_module": "@jupyter-widgets/controls",
            "_model_module_version": "1.5.0",
            "value": " 6000/6000 [00:51&lt;00:00, 116.44it/s]",
            "_view_count": null,
            "_view_module_version": "1.5.0",
            "description_tooltip": null,
            "_model_module": "@jupyter-widgets/controls",
            "layout": "IPY_MODEL_35c3ea4227774d3882bb10e83970e4ce"
          }
        },
        "5c55a575f3c74e3d90068af1f68ccaad": {
          "model_module": "@jupyter-widgets/controls",
          "model_name": "ProgressStyleModel",
          "state": {
            "_view_name": "StyleView",
            "_model_name": "ProgressStyleModel",
            "description_width": "initial",
            "_view_module": "@jupyter-widgets/base",
            "_model_module_version": "1.5.0",
            "_view_count": null,
            "_view_module_version": "1.2.0",
            "bar_color": null,
            "_model_module": "@jupyter-widgets/controls"
          }
        },
        "9b0c1a7ecb5141f58e66cca8c29283a6": {
          "model_module": "@jupyter-widgets/base",
          "model_name": "LayoutModel",
          "state": {
            "_view_name": "LayoutView",
            "grid_template_rows": null,
            "right": null,
            "justify_content": null,
            "_view_module": "@jupyter-widgets/base",
            "overflow": null,
            "_model_module_version": "1.2.0",
            "_view_count": null,
            "flex_flow": null,
            "width": null,
            "min_width": null,
            "border": null,
            "align_items": null,
            "bottom": null,
            "_model_module": "@jupyter-widgets/base",
            "top": null,
            "grid_column": null,
            "overflow_y": null,
            "overflow_x": null,
            "grid_auto_flow": null,
            "grid_area": null,
            "grid_template_columns": null,
            "flex": null,
            "_model_name": "LayoutModel",
            "justify_items": null,
            "grid_row": null,
            "max_height": null,
            "align_content": null,
            "visibility": null,
            "align_self": null,
            "height": null,
            "min_height": null,
            "padding": null,
            "grid_auto_rows": null,
            "grid_gap": null,
            "max_width": null,
            "order": null,
            "_view_module_version": "1.2.0",
            "grid_template_areas": null,
            "object_position": null,
            "object_fit": null,
            "grid_auto_columns": null,
            "margin": null,
            "display": null,
            "left": null
          }
        },
        "9d78808ae1174114a26ee214f300294f": {
          "model_module": "@jupyter-widgets/controls",
          "model_name": "DescriptionStyleModel",
          "state": {
            "_view_name": "StyleView",
            "_model_name": "DescriptionStyleModel",
            "description_width": "",
            "_view_module": "@jupyter-widgets/base",
            "_model_module_version": "1.5.0",
            "_view_count": null,
            "_view_module_version": "1.2.0",
            "_model_module": "@jupyter-widgets/controls"
          }
        },
        "35c3ea4227774d3882bb10e83970e4ce": {
          "model_module": "@jupyter-widgets/base",
          "model_name": "LayoutModel",
          "state": {
            "_view_name": "LayoutView",
            "grid_template_rows": null,
            "right": null,
            "justify_content": null,
            "_view_module": "@jupyter-widgets/base",
            "overflow": null,
            "_model_module_version": "1.2.0",
            "_view_count": null,
            "flex_flow": null,
            "width": null,
            "min_width": null,
            "border": null,
            "align_items": null,
            "bottom": null,
            "_model_module": "@jupyter-widgets/base",
            "top": null,
            "grid_column": null,
            "overflow_y": null,
            "overflow_x": null,
            "grid_auto_flow": null,
            "grid_area": null,
            "grid_template_columns": null,
            "flex": null,
            "_model_name": "LayoutModel",
            "justify_items": null,
            "grid_row": null,
            "max_height": null,
            "align_content": null,
            "visibility": null,
            "align_self": null,
            "height": null,
            "min_height": null,
            "padding": null,
            "grid_auto_rows": null,
            "grid_gap": null,
            "max_width": null,
            "order": null,
            "_view_module_version": "1.2.0",
            "grid_template_areas": null,
            "object_position": null,
            "object_fit": null,
            "grid_auto_columns": null,
            "margin": null,
            "display": null,
            "left": null
          }
        },
        "a24501e65ed74b4cb98df25a34700eb0": {
          "model_module": "@jupyter-widgets/controls",
          "model_name": "HBoxModel",
          "state": {
            "_view_name": "HBoxView",
            "_dom_classes": [],
            "_model_name": "HBoxModel",
            "_view_module": "@jupyter-widgets/controls",
            "_model_module_version": "1.5.0",
            "_view_count": null,
            "_view_module_version": "1.5.0",
            "box_style": "",
            "layout": "IPY_MODEL_b0bbc1a9f29547178253352d8ddb580f",
            "_model_module": "@jupyter-widgets/controls",
            "children": [
              "IPY_MODEL_d3162d05664949869d6e8905a0178fdc",
              "IPY_MODEL_5282df09acc448f6b2efb92ad6eff8a3"
            ]
          }
        },
        "b0bbc1a9f29547178253352d8ddb580f": {
          "model_module": "@jupyter-widgets/base",
          "model_name": "LayoutModel",
          "state": {
            "_view_name": "LayoutView",
            "grid_template_rows": null,
            "right": null,
            "justify_content": null,
            "_view_module": "@jupyter-widgets/base",
            "overflow": null,
            "_model_module_version": "1.2.0",
            "_view_count": null,
            "flex_flow": null,
            "width": null,
            "min_width": null,
            "border": null,
            "align_items": null,
            "bottom": null,
            "_model_module": "@jupyter-widgets/base",
            "top": null,
            "grid_column": null,
            "overflow_y": null,
            "overflow_x": null,
            "grid_auto_flow": null,
            "grid_area": null,
            "grid_template_columns": null,
            "flex": null,
            "_model_name": "LayoutModel",
            "justify_items": null,
            "grid_row": null,
            "max_height": null,
            "align_content": null,
            "visibility": null,
            "align_self": null,
            "height": null,
            "min_height": null,
            "padding": null,
            "grid_auto_rows": null,
            "grid_gap": null,
            "max_width": null,
            "order": null,
            "_view_module_version": "1.2.0",
            "grid_template_areas": null,
            "object_position": null,
            "object_fit": null,
            "grid_auto_columns": null,
            "margin": null,
            "display": null,
            "left": null
          }
        },
        "d3162d05664949869d6e8905a0178fdc": {
          "model_module": "@jupyter-widgets/controls",
          "model_name": "FloatProgressModel",
          "state": {
            "_view_name": "ProgressView",
            "style": "IPY_MODEL_72e484ee63534272ab06471535b12837",
            "_dom_classes": [],
            "description": "100%",
            "_model_name": "FloatProgressModel",
            "bar_style": "success",
            "max": 1000,
            "_view_module": "@jupyter-widgets/controls",
            "_model_module_version": "1.5.0",
            "value": 1000,
            "_view_count": null,
            "_view_module_version": "1.5.0",
            "orientation": "horizontal",
            "min": 0,
            "description_tooltip": null,
            "_model_module": "@jupyter-widgets/controls",
            "layout": "IPY_MODEL_59b5722e7f6e4850953895c552cd32c9"
          }
        },
        "5282df09acc448f6b2efb92ad6eff8a3": {
          "model_module": "@jupyter-widgets/controls",
          "model_name": "HTMLModel",
          "state": {
            "_view_name": "HTMLView",
            "style": "IPY_MODEL_19820d1d23a9447cb87efa74e520ee02",
            "_dom_classes": [],
            "description": "",
            "_model_name": "HTMLModel",
            "placeholder": "​",
            "_view_module": "@jupyter-widgets/controls",
            "_model_module_version": "1.5.0",
            "value": " 1000/1000 [00:04&lt;00:00, 203.95it/s]",
            "_view_count": null,
            "_view_module_version": "1.5.0",
            "description_tooltip": null,
            "_model_module": "@jupyter-widgets/controls",
            "layout": "IPY_MODEL_65a9d7e8921749d28129375f7b5d7205"
          }
        },
        "72e484ee63534272ab06471535b12837": {
          "model_module": "@jupyter-widgets/controls",
          "model_name": "ProgressStyleModel",
          "state": {
            "_view_name": "StyleView",
            "_model_name": "ProgressStyleModel",
            "description_width": "initial",
            "_view_module": "@jupyter-widgets/base",
            "_model_module_version": "1.5.0",
            "_view_count": null,
            "_view_module_version": "1.2.0",
            "bar_color": null,
            "_model_module": "@jupyter-widgets/controls"
          }
        },
        "59b5722e7f6e4850953895c552cd32c9": {
          "model_module": "@jupyter-widgets/base",
          "model_name": "LayoutModel",
          "state": {
            "_view_name": "LayoutView",
            "grid_template_rows": null,
            "right": null,
            "justify_content": null,
            "_view_module": "@jupyter-widgets/base",
            "overflow": null,
            "_model_module_version": "1.2.0",
            "_view_count": null,
            "flex_flow": null,
            "width": null,
            "min_width": null,
            "border": null,
            "align_items": null,
            "bottom": null,
            "_model_module": "@jupyter-widgets/base",
            "top": null,
            "grid_column": null,
            "overflow_y": null,
            "overflow_x": null,
            "grid_auto_flow": null,
            "grid_area": null,
            "grid_template_columns": null,
            "flex": null,
            "_model_name": "LayoutModel",
            "justify_items": null,
            "grid_row": null,
            "max_height": null,
            "align_content": null,
            "visibility": null,
            "align_self": null,
            "height": null,
            "min_height": null,
            "padding": null,
            "grid_auto_rows": null,
            "grid_gap": null,
            "max_width": null,
            "order": null,
            "_view_module_version": "1.2.0",
            "grid_template_areas": null,
            "object_position": null,
            "object_fit": null,
            "grid_auto_columns": null,
            "margin": null,
            "display": null,
            "left": null
          }
        },
        "19820d1d23a9447cb87efa74e520ee02": {
          "model_module": "@jupyter-widgets/controls",
          "model_name": "DescriptionStyleModel",
          "state": {
            "_view_name": "StyleView",
            "_model_name": "DescriptionStyleModel",
            "description_width": "",
            "_view_module": "@jupyter-widgets/base",
            "_model_module_version": "1.5.0",
            "_view_count": null,
            "_view_module_version": "1.2.0",
            "_model_module": "@jupyter-widgets/controls"
          }
        },
        "65a9d7e8921749d28129375f7b5d7205": {
          "model_module": "@jupyter-widgets/base",
          "model_name": "LayoutModel",
          "state": {
            "_view_name": "LayoutView",
            "grid_template_rows": null,
            "right": null,
            "justify_content": null,
            "_view_module": "@jupyter-widgets/base",
            "overflow": null,
            "_model_module_version": "1.2.0",
            "_view_count": null,
            "flex_flow": null,
            "width": null,
            "min_width": null,
            "border": null,
            "align_items": null,
            "bottom": null,
            "_model_module": "@jupyter-widgets/base",
            "top": null,
            "grid_column": null,
            "overflow_y": null,
            "overflow_x": null,
            "grid_auto_flow": null,
            "grid_area": null,
            "grid_template_columns": null,
            "flex": null,
            "_model_name": "LayoutModel",
            "justify_items": null,
            "grid_row": null,
            "max_height": null,
            "align_content": null,
            "visibility": null,
            "align_self": null,
            "height": null,
            "min_height": null,
            "padding": null,
            "grid_auto_rows": null,
            "grid_gap": null,
            "max_width": null,
            "order": null,
            "_view_module_version": "1.2.0",
            "grid_template_areas": null,
            "object_position": null,
            "object_fit": null,
            "grid_auto_columns": null,
            "margin": null,
            "display": null,
            "left": null
          }
        },
        "aed97fc59b1c4540a7dceff5de454ae4": {
          "model_module": "@jupyter-widgets/controls",
          "model_name": "VBoxModel",
          "state": {
            "_view_name": "VBoxView",
            "_dom_classes": [],
            "_model_name": "VBoxModel",
            "_view_module": "@jupyter-widgets/controls",
            "_model_module_version": "1.5.0",
            "_view_count": null,
            "_view_module_version": "1.5.0",
            "box_style": "",
            "layout": "IPY_MODEL_b457632289a742e58dedd28fec3cff43",
            "_model_module": "@jupyter-widgets/controls",
            "children": [
              "IPY_MODEL_c999d4029ca64553ba75887070aae3fb",
              "IPY_MODEL_7f355ef888884b76908b19a242be8006"
            ]
          }
        },
        "b457632289a742e58dedd28fec3cff43": {
          "model_module": "@jupyter-widgets/base",
          "model_name": "LayoutModel",
          "state": {
            "_view_name": "LayoutView",
            "grid_template_rows": null,
            "right": null,
            "justify_content": null,
            "_view_module": "@jupyter-widgets/base",
            "overflow": null,
            "_model_module_version": "1.2.0",
            "_view_count": null,
            "flex_flow": null,
            "width": null,
            "min_width": null,
            "border": null,
            "align_items": null,
            "bottom": null,
            "_model_module": "@jupyter-widgets/base",
            "top": null,
            "grid_column": null,
            "overflow_y": null,
            "overflow_x": null,
            "grid_auto_flow": null,
            "grid_area": null,
            "grid_template_columns": null,
            "flex": null,
            "_model_name": "LayoutModel",
            "justify_items": null,
            "grid_row": null,
            "max_height": null,
            "align_content": null,
            "visibility": null,
            "align_self": null,
            "height": null,
            "min_height": null,
            "padding": null,
            "grid_auto_rows": null,
            "grid_gap": null,
            "max_width": null,
            "order": null,
            "_view_module_version": "1.2.0",
            "grid_template_areas": null,
            "object_position": null,
            "object_fit": null,
            "grid_auto_columns": null,
            "margin": null,
            "display": null,
            "left": null
          }
        },
        "c999d4029ca64553ba75887070aae3fb": {
          "model_module": "@jupyter-widgets/controls",
          "model_name": "LabelModel",
          "state": {
            "_view_name": "LabelView",
            "style": "IPY_MODEL_e02addea1e1e4c2298277b30bfd849b2",
            "_dom_classes": [],
            "description": "",
            "_model_name": "LabelModel",
            "placeholder": "​",
            "_view_module": "@jupyter-widgets/controls",
            "_model_module_version": "1.5.0",
            "value": " 0.01MB of 0.01MB uploaded (0.00MB deduped)\r",
            "_view_count": null,
            "_view_module_version": "1.5.0",
            "description_tooltip": null,
            "_model_module": "@jupyter-widgets/controls",
            "layout": "IPY_MODEL_727f672e4d244af0bf5bc70801bc5126"
          }
        },
        "7f355ef888884b76908b19a242be8006": {
          "model_module": "@jupyter-widgets/controls",
          "model_name": "FloatProgressModel",
          "state": {
            "_view_name": "ProgressView",
            "style": "IPY_MODEL_d8ca2497c09d4469bcef9a59a107a617",
            "_dom_classes": [],
            "description": "",
            "_model_name": "FloatProgressModel",
            "bar_style": "",
            "max": 1,
            "_view_module": "@jupyter-widgets/controls",
            "_model_module_version": "1.5.0",
            "value": 1,
            "_view_count": null,
            "_view_module_version": "1.5.0",
            "orientation": "horizontal",
            "min": 0,
            "description_tooltip": null,
            "_model_module": "@jupyter-widgets/controls",
            "layout": "IPY_MODEL_9d17a84f4cbd4258a0495cd2e36592e2"
          }
        },
        "e02addea1e1e4c2298277b30bfd849b2": {
          "model_module": "@jupyter-widgets/controls",
          "model_name": "DescriptionStyleModel",
          "state": {
            "_view_name": "StyleView",
            "_model_name": "DescriptionStyleModel",
            "description_width": "",
            "_view_module": "@jupyter-widgets/base",
            "_model_module_version": "1.5.0",
            "_view_count": null,
            "_view_module_version": "1.2.0",
            "_model_module": "@jupyter-widgets/controls"
          }
        },
        "727f672e4d244af0bf5bc70801bc5126": {
          "model_module": "@jupyter-widgets/base",
          "model_name": "LayoutModel",
          "state": {
            "_view_name": "LayoutView",
            "grid_template_rows": null,
            "right": null,
            "justify_content": null,
            "_view_module": "@jupyter-widgets/base",
            "overflow": null,
            "_model_module_version": "1.2.0",
            "_view_count": null,
            "flex_flow": null,
            "width": null,
            "min_width": null,
            "border": null,
            "align_items": null,
            "bottom": null,
            "_model_module": "@jupyter-widgets/base",
            "top": null,
            "grid_column": null,
            "overflow_y": null,
            "overflow_x": null,
            "grid_auto_flow": null,
            "grid_area": null,
            "grid_template_columns": null,
            "flex": null,
            "_model_name": "LayoutModel",
            "justify_items": null,
            "grid_row": null,
            "max_height": null,
            "align_content": null,
            "visibility": null,
            "align_self": null,
            "height": null,
            "min_height": null,
            "padding": null,
            "grid_auto_rows": null,
            "grid_gap": null,
            "max_width": null,
            "order": null,
            "_view_module_version": "1.2.0",
            "grid_template_areas": null,
            "object_position": null,
            "object_fit": null,
            "grid_auto_columns": null,
            "margin": null,
            "display": null,
            "left": null
          }
        },
        "d8ca2497c09d4469bcef9a59a107a617": {
          "model_module": "@jupyter-widgets/controls",
          "model_name": "ProgressStyleModel",
          "state": {
            "_view_name": "StyleView",
            "_model_name": "ProgressStyleModel",
            "description_width": "",
            "_view_module": "@jupyter-widgets/base",
            "_model_module_version": "1.5.0",
            "_view_count": null,
            "_view_module_version": "1.2.0",
            "bar_color": null,
            "_model_module": "@jupyter-widgets/controls"
          }
        },
        "9d17a84f4cbd4258a0495cd2e36592e2": {
          "model_module": "@jupyter-widgets/base",
          "model_name": "LayoutModel",
          "state": {
            "_view_name": "LayoutView",
            "grid_template_rows": null,
            "right": null,
            "justify_content": null,
            "_view_module": "@jupyter-widgets/base",
            "overflow": null,
            "_model_module_version": "1.2.0",
            "_view_count": null,
            "flex_flow": null,
            "width": null,
            "min_width": null,
            "border": null,
            "align_items": null,
            "bottom": null,
            "_model_module": "@jupyter-widgets/base",
            "top": null,
            "grid_column": null,
            "overflow_y": null,
            "overflow_x": null,
            "grid_auto_flow": null,
            "grid_area": null,
            "grid_template_columns": null,
            "flex": null,
            "_model_name": "LayoutModel",
            "justify_items": null,
            "grid_row": null,
            "max_height": null,
            "align_content": null,
            "visibility": null,
            "align_self": null,
            "height": null,
            "min_height": null,
            "padding": null,
            "grid_auto_rows": null,
            "grid_gap": null,
            "max_width": null,
            "order": null,
            "_view_module_version": "1.2.0",
            "grid_template_areas": null,
            "object_position": null,
            "object_fit": null,
            "grid_auto_columns": null,
            "margin": null,
            "display": null,
            "left": null
          }
        }
      }
    }
  },
  "cells": [
    {
      "cell_type": "markdown",
      "metadata": {
        "id": "KaMQ0d4Pl8xV"
      },
      "source": [
        "<html>\n",
        "<body>\n",
        "    <center> \n",
        "        <h1><u>Assignment 1</u></h1>\n",
        "        <h3> Quick intro + checking code works on your system </h3>\n",
        "    </center>\n",
        "</body>\n",
        "</html>"
      ]
    },
    {
      "cell_type": "markdown",
      "metadata": {
        "id": "I4E4e_Iql8xb"
      },
      "source": [
        "### Learning Outcomes: The goal of this assignment is two-fold:\n",
        "\n",
        "- This code-base is designed to be easily extended for different research projects. Running this notebook to the end will ensure that the code runs on your system, and that you are set-up to start playing with machine learning code.\n",
        "- This notebook has one complete application: training a CNN classifier to predict the digit in MNIST Images. The code is written to familiarize you to a typical machine learning pipeline, and to the building blocks of code used to do ML. So, read on! "
      ]
    },
    {
      "cell_type": "markdown",
      "metadata": {
        "id": "gKo5nbU2l8xc"
      },
      "source": [
        "### Please specify your Name, Email ID and forked repository url here:\n",
        "- Name: Wenjie Gu\n",
        "- Email: wenjie_gu@hsph.harvard.edu\n",
        "- Link to your forked github repository: https://github.com/biankaursul/Harvard_BAI"
      ]
    },
    {
      "cell_type": "code",
      "metadata": {
        "colab": {
          "base_uri": "https://localhost:8080/",
          "height": 0
        },
        "id": "eLTIIdOtopi_",
        "outputId": "f4bc14e8-a056-410a-c225-d9a01b20de59"
      },
      "source": [
        "from google.colab import drive\n",
        "drive.mount('/content/drive')\n",
        "git_install_dir = '/content/drive/MyDrive/'"
      ],
      "execution_count": 1,
      "outputs": [
        {
          "output_type": "stream",
          "text": [
            "Mounted at /content/drive\n"
          ],
          "name": "stdout"
        }
      ]
    },
    {
      "cell_type": "code",
      "metadata": {
        "colab": {
          "base_uri": "https://localhost:8080/"
        },
        "id": "RJ33qUNKpBy5",
        "outputId": "ceeeaba6-8a9b-4ec1-99f1-6be2e7637499"
      },
      "source": [
        "!cd /content/drive/MyDrive/ && git clone https://github.com/biankaursul/Harvard_BAI.git"
      ],
      "execution_count": null,
      "outputs": [
        {
          "output_type": "stream",
          "text": [
            "Cloning into 'Harvard_BAI'...\n",
            "remote: Enumerating objects: 259, done.\u001b[K\n",
            "remote: Counting objects: 100% (259/259), done.\u001b[K\n",
            "remote: Compressing objects: 100% (150/150), done.\u001b[K\n",
            "remote: Total 259 (delta 114), reused 230 (delta 97), pack-reused 0\u001b[K\n",
            "Receiving objects: 100% (259/259), 22.55 MiB | 5.33 MiB/s, done.\n",
            "Resolving deltas: 100% (114/114), done.\n"
          ],
          "name": "stdout"
        }
      ]
    },
    {
      "cell_type": "code",
      "metadata": {
        "id": "Y6ikDBk7ovOh"
      },
      "source": [
        "git_dir = '/content/drive/MyDrive/Harvard_BAI/'"
      ],
      "execution_count": 3,
      "outputs": []
    },
    {
      "cell_type": "code",
      "metadata": {
        "id": "CkKVEyr9l8xc"
      },
      "source": [
        "### General libraries useful for python ###\n",
        "\n",
        "import os\n",
        "import sys\n",
        "from tqdm.notebook import tqdm\n",
        "import json\n",
        "import random\n",
        "import pickle\n",
        "import copy\n",
        "from IPython.display import display\n",
        "import ipywidgets as widgets"
      ],
      "execution_count": 4,
      "outputs": []
    },
    {
      "cell_type": "code",
      "metadata": {
        "colab": {
          "base_uri": "https://localhost:8080/",
          "height": 0
        },
        "id": "lFWU3cEMl8xc",
        "outputId": "9a8a672d-cfeb-487e-8998-5e839516bfa3"
      },
      "source": [
        "### Finding where you clone your repo, so that code upstream paths can be specified programmatically ####\n",
        "# work_dir = os.getcwd()\n",
        "work_dir = '/content/drive/MyDrive/Harvard_BAI/'\n",
        "git_dir = '/'.join(work_dir.split('/')[:-1])\n",
        "print('Your github directory is :%s'%git_dir)"
      ],
      "execution_count": 5,
      "outputs": [
        {
          "output_type": "stream",
          "text": [
            "Your github directory is :/content/drive/MyDrive/Harvard_BAI\n"
          ],
          "name": "stdout"
        }
      ]
    },
    {
      "cell_type": "code",
      "metadata": {
        "id": "4tsvS-Lzl8xd"
      },
      "source": [
        "### Libraries for visualizing our results and data ###\n",
        "from PIL import Image\n",
        "import matplotlib.pyplot as plt"
      ],
      "execution_count": 6,
      "outputs": []
    },
    {
      "cell_type": "code",
      "metadata": {
        "scrolled": false,
        "id": "qwlLROrNl8xd"
      },
      "source": [
        "### Import PyTorch and its components ###\n",
        "import torch\n",
        "import torchvision\n",
        "import torch.nn as nn\n",
        "import torch.optim as optim"
      ],
      "execution_count": 7,
      "outputs": []
    },
    {
      "cell_type": "markdown",
      "metadata": {
        "id": "sfezO-cpl8xe"
      },
      "source": [
        "#### Let's load our flexible code-base which you will build on for your research projects in future assignments.\n",
        "\n",
        "Above we have imported modules (libraries for those familiar to programming languages other than python). These modules are of two kinds - (1) inbuilt python modules like `os`, `sys`, `random`, or (2) ones which we installed using conda (ex. `torch`).\n",
        "\n",
        "Below we will be importing our own written code which resides in the `res` folder in your github directory. This is structured to be easily expandable for different machine learning projects. Suppose that you want to do a project on object detection. You can easily add a few files to the sub-folders within `res`, and this script will then be flexibly do detection instead of classication (which is presented here). Expanding on this codebase will be the main subject matter of Assignment 2. For now, let's continue with importing."
      ]
    },
    {
      "cell_type": "code",
      "metadata": {
        "colab": {
          "base_uri": "https://localhost:8080/",
          "height": 0
        },
        "id": "9rs5q8DHl8xe",
        "outputId": "4b4bd0b4-c154-474b-e7b1-8d695f121ca1"
      },
      "source": [
        "### Making helper code under the folder res available. This includes loaders, models, etc. ###\n",
        "sys.path.append('%s/res/'%git_dir)\n",
        "from models.models import get_model\n",
        "from loader.loader import get_loader"
      ],
      "execution_count": 8,
      "outputs": [
        {
          "output_type": "stream",
          "text": [
            "Models are being loaded from: /content/drive/MyDrive/Harvard_BAI/res/models\n",
            "Loaders are being loaded from: /content/drive/MyDrive/Harvard_BAI/res/loader\n"
          ],
          "name": "stdout"
        }
      ]
    },
    {
      "cell_type": "markdown",
      "metadata": {
        "id": "EBOrhWm2l8xe"
      },
      "source": [
        "#### See those paths printed above?"
      ]
    },
    {
      "cell_type": "markdown",
      "metadata": {
        "id": "jAlu52Sul8xe"
      },
      "source": [
        "`res/models` holds different model files. So, if you want to load ResNet architecture or a transformers architecture, they will reside there as separate files. \n",
        "\n",
        "Similarly, `res/loader` holds programs which are designed to load different types of data. For example, you may want to load data differently for object classification and detection. For classification each image will have only a numerical label corresponding to its category. For detection, the labels for the same image would contain bounding boxes for different objects and the type of the object in the box. \n",
        "\n",
        "So, to expand further you will be adding files to the folders above."
      ]
    },
    {
      "cell_type": "markdown",
      "metadata": {
        "scrolled": true,
        "id": "6dOK4nF_l8xf"
      },
      "source": [
        "### Setting up Weights and Biases for tracking your experiments. ###\n",
        "\n",
        "We have Weights and Biases (wandb.ai) integrated into the code for easy visualization of results and for tracking performance. `Please make an account at wandb.ai, and follow the steps to login to your account!`"
      ]
    },
    {
      "cell_type": "code",
      "metadata": {
        "colab": {
          "base_uri": "https://localhost:8080/",
          "height": 0
        },
        "id": "QdrIj1zPmuqp",
        "outputId": "793e578f-06ca-47f5-8cc8-d0b3b1434102"
      },
      "source": [
        "!pip install wandb"
      ],
      "execution_count": 9,
      "outputs": [
        {
          "output_type": "stream",
          "text": [
            "Collecting wandb\n",
            "\u001b[?25l  Downloading https://files.pythonhosted.org/packages/72/85/941042d55708fe30f95d799b5380ea5601ea6c50ab3cf06c0b2dad02129c/wandb-0.10.17-py2.py3-none-any.whl (2.0MB)\n",
            "\u001b[K     |████████████████████████████████| 2.0MB 13.6MB/s \n",
            "\u001b[?25hRequirement already satisfied: protobuf>=3.12.0 in /usr/local/lib/python3.6/dist-packages (from wandb) (3.12.4)\n",
            "Requirement already satisfied: six>=1.13.0 in /usr/local/lib/python3.6/dist-packages (from wandb) (1.15.0)\n",
            "Requirement already satisfied: Click>=7.0 in /usr/local/lib/python3.6/dist-packages (from wandb) (7.1.2)\n",
            "Collecting subprocess32>=3.5.3\n",
            "\u001b[?25l  Downloading https://files.pythonhosted.org/packages/32/c8/564be4d12629b912ea431f1a50eb8b3b9d00f1a0b1ceff17f266be190007/subprocess32-3.5.4.tar.gz (97kB)\n",
            "\u001b[K     |████████████████████████████████| 102kB 13.6MB/s \n",
            "\u001b[?25hCollecting docker-pycreds>=0.4.0\n",
            "  Downloading https://files.pythonhosted.org/packages/f5/e8/f6bd1eee09314e7e6dee49cbe2c5e22314ccdb38db16c9fc72d2fa80d054/docker_pycreds-0.4.0-py2.py3-none-any.whl\n",
            "Requirement already satisfied: python-dateutil>=2.6.1 in /usr/local/lib/python3.6/dist-packages (from wandb) (2.8.1)\n",
            "Requirement already satisfied: promise<3,>=2.0 in /usr/local/lib/python3.6/dist-packages (from wandb) (2.3)\n",
            "Requirement already satisfied: requests<3,>=2.0.0 in /usr/local/lib/python3.6/dist-packages (from wandb) (2.23.0)\n",
            "Collecting pathtools\n",
            "  Downloading https://files.pythonhosted.org/packages/e7/7f/470d6fcdf23f9f3518f6b0b76be9df16dcc8630ad409947f8be2eb0ed13a/pathtools-0.1.2.tar.gz\n",
            "Collecting GitPython>=1.0.0\n",
            "\u001b[?25l  Downloading https://files.pythonhosted.org/packages/d7/cb/ec98155c501b68dcb11314c7992cd3df6dce193fd763084338a117967d53/GitPython-3.1.12-py3-none-any.whl (159kB)\n",
            "\u001b[K     |████████████████████████████████| 163kB 45.5MB/s \n",
            "\u001b[?25hCollecting shortuuid>=0.5.0\n",
            "  Downloading https://files.pythonhosted.org/packages/25/a6/2ecc1daa6a304e7f1b216f0896b26156b78e7c38e1211e9b798b4716c53d/shortuuid-1.0.1-py3-none-any.whl\n",
            "Collecting configparser>=3.8.1\n",
            "  Downloading https://files.pythonhosted.org/packages/08/b2/ef713e0e67f6e7ec7d59aea3ee78d05b39c15930057e724cc6d362a8c3bb/configparser-5.0.1-py3-none-any.whl\n",
            "Requirement already satisfied: PyYAML in /usr/local/lib/python3.6/dist-packages (from wandb) (3.13)\n",
            "Requirement already satisfied: psutil>=5.0.0 in /usr/local/lib/python3.6/dist-packages (from wandb) (5.4.8)\n",
            "Collecting sentry-sdk>=0.4.0\n",
            "\u001b[?25l  Downloading https://files.pythonhosted.org/packages/b1/5c/018bf9a5c24343a664deaea70e61f33f53bb1bd3caf193110f827bfd07e2/sentry_sdk-0.19.5-py2.py3-none-any.whl (128kB)\n",
            "\u001b[K     |████████████████████████████████| 133kB 44.4MB/s \n",
            "\u001b[?25hRequirement already satisfied: setuptools in /usr/local/lib/python3.6/dist-packages (from protobuf>=3.12.0->wandb) (53.0.0)\n",
            "Requirement already satisfied: idna<3,>=2.5 in /usr/local/lib/python3.6/dist-packages (from requests<3,>=2.0.0->wandb) (2.10)\n",
            "Requirement already satisfied: chardet<4,>=3.0.2 in /usr/local/lib/python3.6/dist-packages (from requests<3,>=2.0.0->wandb) (3.0.4)\n",
            "Requirement already satisfied: certifi>=2017.4.17 in /usr/local/lib/python3.6/dist-packages (from requests<3,>=2.0.0->wandb) (2020.12.5)\n",
            "Requirement already satisfied: urllib3!=1.25.0,!=1.25.1,<1.26,>=1.21.1 in /usr/local/lib/python3.6/dist-packages (from requests<3,>=2.0.0->wandb) (1.24.3)\n",
            "Collecting gitdb<5,>=4.0.1\n",
            "\u001b[?25l  Downloading https://files.pythonhosted.org/packages/48/11/d1800bca0a3bae820b84b7d813ad1eff15a48a64caea9c823fc8c1b119e8/gitdb-4.0.5-py3-none-any.whl (63kB)\n",
            "\u001b[K     |████████████████████████████████| 71kB 10.7MB/s \n",
            "\u001b[?25hCollecting smmap<4,>=3.0.1\n",
            "  Downloading https://files.pythonhosted.org/packages/d5/1e/6130925131f639b2acde0f7f18b73e33ce082ff2d90783c436b52040af5a/smmap-3.0.5-py2.py3-none-any.whl\n",
            "Building wheels for collected packages: subprocess32, pathtools\n",
            "  Building wheel for subprocess32 (setup.py) ... \u001b[?25l\u001b[?25hdone\n",
            "  Created wheel for subprocess32: filename=subprocess32-3.5.4-cp36-none-any.whl size=6490 sha256=8b7c836cad53c98c9f1e0181b7ffaf815b62aed249a3958fad441423cb4e84dc\n",
            "  Stored in directory: /root/.cache/pip/wheels/68/39/1a/5e402bdfdf004af1786c8b853fd92f8c4a04f22aad179654d1\n",
            "  Building wheel for pathtools (setup.py) ... \u001b[?25l\u001b[?25hdone\n",
            "  Created wheel for pathtools: filename=pathtools-0.1.2-cp36-none-any.whl size=8785 sha256=6fbf8e31c73feb650d2f091eac1863a563c92ec989d66183d92934fd9fabef68\n",
            "  Stored in directory: /root/.cache/pip/wheels/0b/04/79/c3b0c3a0266a3cb4376da31e5bfe8bba0c489246968a68e843\n",
            "Successfully built subprocess32 pathtools\n",
            "Installing collected packages: subprocess32, docker-pycreds, pathtools, smmap, gitdb, GitPython, shortuuid, configparser, sentry-sdk, wandb\n",
            "Successfully installed GitPython-3.1.12 configparser-5.0.1 docker-pycreds-0.4.0 gitdb-4.0.5 pathtools-0.1.2 sentry-sdk-0.19.5 shortuuid-1.0.1 smmap-3.0.5 subprocess32-3.5.4 wandb-0.10.17\n"
          ],
          "name": "stdout"
        }
      ]
    },
    {
      "cell_type": "code",
      "metadata": {
        "scrolled": true,
        "colab": {
          "base_uri": "https://localhost:8080/",
          "height": 0
        },
        "id": "ckVwty1pl8xf",
        "outputId": "b8c9d79f-1077-4843-aa4c-4e595904f05d"
      },
      "source": [
        "import wandb\n",
        "wandb.login()"
      ],
      "execution_count": 11,
      "outputs": [
        {
          "output_type": "stream",
          "text": [
            "\u001b[34m\u001b[1mwandb\u001b[0m: Currently logged in as: \u001b[33mbiankaursul\u001b[0m (use `wandb login --relogin` to force relogin)\n"
          ],
          "name": "stderr"
        },
        {
          "output_type": "execute_result",
          "data": {
            "text/plain": [
              "True"
            ]
          },
          "metadata": {
            "tags": []
          },
          "execution_count": 11
        }
      ]
    },
    {
      "cell_type": "markdown",
      "metadata": {
        "id": "WmC6I2Y0l8xf"
      },
      "source": [
        "### Specifying settings/hyperparameters for our code below ###"
      ]
    },
    {
      "cell_type": "code",
      "metadata": {
        "id": "2zk0dPlyl8xf"
      },
      "source": [
        "wandb_config = {}\n",
        "wandb_config['batch_size'] = 10\n",
        "wandb_config['base_lr'] = 0.01\n",
        "wandb_config['model_arch'] = 'CustomCNN'\n",
        "wandb_config['num_classes'] = 10\n",
        "wandb_config['run_name'] = 'assignment_1'\n",
        "\n",
        "### If you are using a CPU, please set wandb_config['use_gpu'] = 0 below. However, if you are using a GPU, leave it unchanged ####\n",
        "wandb_config['use_gpu'] = 1\n",
        "\n",
        "wandb_config['num_epochs'] = 2\n",
        "wandb_config['git_dir'] = git_dir"
      ],
      "execution_count": 12,
      "outputs": []
    },
    {
      "cell_type": "markdown",
      "metadata": {
        "id": "nir2ZlJdl8xg"
      },
      "source": [
        "By changing above, different experiments can be run. For example, you can specify which model architecture to load, which dataset you will be loading, and so on."
      ]
    },
    {
      "cell_type": "markdown",
      "metadata": {
        "id": "Fi_OK42dl8xg"
      },
      "source": [
        "### Data Loading ###"
      ]
    },
    {
      "cell_type": "markdown",
      "metadata": {
        "id": "hI-2GY6Xl8xg"
      },
      "source": [
        "The most common task many of you will be doing in your projects will be running a script on a new dataset. In PyTorch this is done using data loaders, and it is extremely important to understand this works. In next assignment, you will be writing your own dataloader. For now, we only expose you to basic data loading which for the MNIST dataset for which PyTorch provides easy functions."
      ]
    },
    {
      "cell_type": "markdown",
      "metadata": {
        "id": "qReQJbdtl8xh"
      },
      "source": [
        "### Let's load MNIST. The first time you run it, the dataset gets downloaded.\n"
      ]
    },
    {
      "cell_type": "markdown",
      "metadata": {
        "id": "BbzlC_wol8xh"
      },
      "source": [
        "Data Transforms tell PyTorch how to pre-process your data. Recall that images are stored with values between 0-255 usually. One very common pre-processing for images is to normalize to be 0 mean and 1 standard deviation. This pre-processing makes the task easier for neural networks. There are many, many kinds of normalization in deep learning, the most basic one being those imposed on the image data while loading it."
      ]
    },
    {
      "cell_type": "code",
      "metadata": {
        "id": "kLDT3r3xl8xh"
      },
      "source": [
        "data_transforms = {}\n",
        "data_transforms['train'] = torchvision.transforms.Compose([\n",
        "                               torchvision.transforms.ToTensor(),\n",
        "                               torchvision.transforms.Normalize(\n",
        "                                 (0.1307,), (0.3081,))])\n",
        "\n",
        "data_transforms['test'] = torchvision.transforms.Compose([\n",
        "                               torchvision.transforms.ToTensor(),\n",
        "                               torchvision.transforms.Normalize(\n",
        "                                 (0.1307,), (0.3081,))])"
      ],
      "execution_count": 13,
      "outputs": []
    },
    {
      "cell_type": "markdown",
      "metadata": {
        "id": "Xxnk_la4l8xh"
      },
      "source": [
        "`torchvision.datasets.MNIST` allows you to load MNIST data. In future, we will be using our own `get_loader` function from above to load custom data. Notice that data_transforms are passed as argument while loading the data below."
      ]
    },
    {
      "cell_type": "code",
      "metadata": {
        "colab": {
          "base_uri": "https://localhost:8080/",
          "height": 420,
          "referenced_widgets": [
            "e21cafeae6ec4286bc7799dbbab25777",
            "32f60b8223e8408aa2e61753ae1a80f7",
            "ac405ccc1f964df09ad8c32fa33453a4",
            "3d50f5a26a834c86a88cbe428215f7a6",
            "9c361129a0784085baad558fb80a00a7",
            "0305ae80274c4e9cae46e534fea395c1",
            "ada20a19a15744eba8545ec45e187d54",
            "7ef0de881ab84cbbbe0f1cdbe93283ce",
            "d9ea91971f7241cd853ab054135221d4",
            "e2f25b90f9774219a9f4bde96ee77c58",
            "dc6186eba72a4259bb7abcd99670a58a",
            "a10de8ff068742d691427c3a07da6274",
            "f5a6fc70e85b4dd49e53fe77c48174b8",
            "97bd4e13fe554ba59e69f6199de5ec88",
            "f759dced6eec4a26b7f685f071f4e979",
            "3ae45231da1e4fc1b890e76417454ace",
            "d412ad0ab5514d08889bdc226cbd88d5",
            "38a98a224df144dd97a7f7dea9011149",
            "c163991a2bfc4c408383de06fcece49e",
            "22ad5a1528504cec987a5283b68e8a1e",
            "a3b607aa795840efae192a2f4c863611",
            "0ce0675f5151446083c1d970c90b7dad",
            "61a349b0740149658d8b4bdb398887c9",
            "d603168426674d428b8d65001e543430",
            "6b04c6d99f62418a9987817c68ac920f",
            "54d1d6fce16846b7a8ef0c994976ccd4",
            "afd0e4e0cbd349ea990f12dc78bd0fc0",
            "e1e7627a8c2742a0a25a62d6201921a5",
            "16c8e875514e41c69b9b31f7ae5253b4",
            "c2371a0eb39b458495a55ff7b8f172d0",
            "a5cd42dffba94c56a90576ae045f4eef",
            "a3b43dce3ae64cc49bf4cf9721924eb5"
          ]
        },
        "id": "0NtWPb2dl8xi",
        "outputId": "c8adbe62-a565-4ecd-a11b-3b21f879d71c"
      },
      "source": [
        "mnist_dataset = {}\n",
        "mnist_dataset['train'] = torchvision.datasets.MNIST('%s/datasets'%wandb_config['git_dir'], train = True, download = True, transform = data_transforms['train'])\n",
        "mnist_dataset['test'] = torchvision.datasets.MNIST('%s/datasets'%wandb_config['git_dir'], train = False, download = True, transform = data_transforms['test'])"
      ],
      "execution_count": 14,
      "outputs": [
        {
          "output_type": "stream",
          "text": [
            "Downloading http://yann.lecun.com/exdb/mnist/train-images-idx3-ubyte.gz to /content/drive/MyDrive/Harvard_BAI/datasets/MNIST/raw/train-images-idx3-ubyte.gz\n"
          ],
          "name": "stdout"
        },
        {
          "output_type": "display_data",
          "data": {
            "application/vnd.jupyter.widget-view+json": {
              "model_id": "e21cafeae6ec4286bc7799dbbab25777",
              "version_minor": 0,
              "version_major": 2
            },
            "text/plain": [
              "HBox(children=(FloatProgress(value=1.0, bar_style='info', max=1.0), HTML(value='')))"
            ]
          },
          "metadata": {
            "tags": []
          }
        },
        {
          "output_type": "stream",
          "text": [
            "Extracting /content/drive/MyDrive/Harvard_BAI/datasets/MNIST/raw/train-images-idx3-ubyte.gz to /content/drive/MyDrive/Harvard_BAI/datasets/MNIST/raw\n",
            "Downloading http://yann.lecun.com/exdb/mnist/train-labels-idx1-ubyte.gz to /content/drive/MyDrive/Harvard_BAI/datasets/MNIST/raw/train-labels-idx1-ubyte.gz\n"
          ],
          "name": "stdout"
        },
        {
          "output_type": "display_data",
          "data": {
            "application/vnd.jupyter.widget-view+json": {
              "model_id": "d9ea91971f7241cd853ab054135221d4",
              "version_minor": 0,
              "version_major": 2
            },
            "text/plain": [
              "HBox(children=(FloatProgress(value=1.0, bar_style='info', max=1.0), HTML(value='')))"
            ]
          },
          "metadata": {
            "tags": []
          }
        },
        {
          "output_type": "stream",
          "text": [
            "Extracting /content/drive/MyDrive/Harvard_BAI/datasets/MNIST/raw/train-labels-idx1-ubyte.gz to /content/drive/MyDrive/Harvard_BAI/datasets/MNIST/raw\n",
            "Downloading http://yann.lecun.com/exdb/mnist/t10k-images-idx3-ubyte.gz to /content/drive/MyDrive/Harvard_BAI/datasets/MNIST/raw/t10k-images-idx3-ubyte.gz\n"
          ],
          "name": "stdout"
        },
        {
          "output_type": "display_data",
          "data": {
            "application/vnd.jupyter.widget-view+json": {
              "model_id": "d412ad0ab5514d08889bdc226cbd88d5",
              "version_minor": 0,
              "version_major": 2
            },
            "text/plain": [
              "HBox(children=(FloatProgress(value=1.0, bar_style='info', max=1.0), HTML(value='')))"
            ]
          },
          "metadata": {
            "tags": []
          }
        },
        {
          "output_type": "stream",
          "text": [
            "Extracting /content/drive/MyDrive/Harvard_BAI/datasets/MNIST/raw/t10k-images-idx3-ubyte.gz to /content/drive/MyDrive/Harvard_BAI/datasets/MNIST/raw\n",
            "Downloading http://yann.lecun.com/exdb/mnist/t10k-labels-idx1-ubyte.gz to /content/drive/MyDrive/Harvard_BAI/datasets/MNIST/raw/t10k-labels-idx1-ubyte.gz\n",
            "\n",
            "\n",
            "\n"
          ],
          "name": "stdout"
        },
        {
          "output_type": "display_data",
          "data": {
            "application/vnd.jupyter.widget-view+json": {
              "model_id": "6b04c6d99f62418a9987817c68ac920f",
              "version_minor": 0,
              "version_major": 2
            },
            "text/plain": [
              "HBox(children=(FloatProgress(value=1.0, bar_style='info', max=1.0), HTML(value='')))"
            ]
          },
          "metadata": {
            "tags": []
          }
        },
        {
          "output_type": "stream",
          "text": [
            "Extracting /content/drive/MyDrive/Harvard_BAI/datasets/MNIST/raw/t10k-labels-idx1-ubyte.gz to /content/drive/MyDrive/Harvard_BAI/datasets/MNIST/raw\n",
            "Processing...\n"
          ],
          "name": "stdout"
        },
        {
          "output_type": "stream",
          "text": [
            "/usr/local/lib/python3.6/dist-packages/torchvision/datasets/mnist.py:480: UserWarning: The given NumPy array is not writeable, and PyTorch does not support non-writeable tensors. This means you can write to the underlying (supposedly non-writeable) NumPy array using the tensor. You may want to copy the array to protect its data or make it writeable before converting it to a tensor. This type of warning will be suppressed for the rest of this program. (Triggered internally at  /pytorch/torch/csrc/utils/tensor_numpy.cpp:141.)\n",
            "  return torch.from_numpy(parsed.astype(m[2], copy=False)).view(*s)\n"
          ],
          "name": "stderr"
        },
        {
          "output_type": "stream",
          "text": [
            "Done!\n"
          ],
          "name": "stdout"
        }
      ]
    },
    {
      "cell_type": "markdown",
      "metadata": {
        "id": "QxBI6C8Kl8xi"
      },
      "source": [
        "#### Dataset vs Dataloader"
      ]
    },
    {
      "cell_type": "markdown",
      "metadata": {
        "id": "_7dBAAOYl8xi"
      },
      "source": [
        "Most deep learning datasets are huge. Can be as large as million data points. We want to keep our GPUs free to store intermediate calculations for neural networks, like gradients. We would not be able to load a million samples into the GPU (or even CPU) and do forward or backward passes on the network. \n",
        "\n",
        "So, samples are loaded in batches, and this method of gradient descent is called mini-batch gradient descent. `torch.utils.data.DataLoader` allows you to specify a pytorch dataset, and makes it easy to loop over it in batches. So, we leverage this to create a data loader from our above loaded MNIST dataset. \n",
        "\n",
        "The dataset itself only contains lists of where to find the inputs and outputs i.e. paths. The data loader defines the logic on loading this information into the GPU/CPU and so it can be passed into the neural net."
      ]
    },
    {
      "cell_type": "code",
      "metadata": {
        "id": "4_I6T99Wl8xi"
      },
      "source": [
        "data_loaders = {}\n",
        "data_loaders['train'] = torch.utils.data.DataLoader(mnist_dataset['train'], batch_size = wandb_config['batch_size'], shuffle = True)\n",
        "data_loaders['test'] = torch.utils.data.DataLoader(mnist_dataset['test'], batch_size = wandb_config['batch_size'], shuffle = False)\n",
        "\n",
        "data_sizes = {}\n",
        "data_sizes['train'] = len(mnist_dataset['train'])\n",
        "data_sizes['test'] = len(mnist_dataset['test'])"
      ],
      "execution_count": 15,
      "outputs": []
    },
    {
      "cell_type": "markdown",
      "metadata": {
        "id": "liC2EE7kl8xj"
      },
      "source": [
        "### We will use the `get_model` functionality to load a CNN architecture."
      ]
    },
    {
      "cell_type": "code",
      "metadata": {
        "id": "n_d8DhNwl8xj"
      },
      "source": [
        "model = get_model(wandb_config['model_arch'], wandb_config['num_classes'])"
      ],
      "execution_count": 16,
      "outputs": []
    },
    {
      "cell_type": "markdown",
      "metadata": {
        "id": "YDsZ7zZCl8xj"
      },
      "source": [
        "### Curious what the model architecture looks like?\n",
        "\n",
        "`get_model` is just a function in the file `res/models/models.py`. Stop here, open this file, and see what the function does."
      ]
    },
    {
      "cell_type": "code",
      "metadata": {
        "colab": {
          "base_uri": "https://localhost:8080/",
          "height": 145,
          "referenced_widgets": [
            "6d3c415a80e947f09dd032c2b1d87781",
            "e7bdda6755174d2a97bdd9a649a6cf61",
            "bfd40b1c0ff940818fa604900d28d440",
            "9a5fe8d2a809442c95a8c1876a98c3e9",
            "a7a4b0de2794421d8fc3adda06c1b86d"
          ]
        },
        "id": "tApf-EvXl8xj",
        "outputId": "063ed81a-fdfa-464a-c859-22d1203dc70f"
      },
      "source": [
        "layout = widgets.Layout(width='auto', height='90px') #set width and height\n",
        "\n",
        "button = widgets.Button(description=\"Read the function?\\n Click me!\", layout=layout)\n",
        "output = widgets.Output()\n",
        "\n",
        "display(button, output)\n",
        "\n",
        "def on_button_clicked(b):\n",
        "    with output:\n",
        "        print(\"As you can see, the function simply returns an object of the class CustomCNN, which is defined in res/models/CustomCNN.py\")\n",
        "        print(\"This is our neural network model.\")\n",
        "button.on_click(on_button_clicked)"
      ],
      "execution_count": 17,
      "outputs": [
        {
          "output_type": "display_data",
          "data": {
            "application/vnd.jupyter.widget-view+json": {
              "model_id": "6d3c415a80e947f09dd032c2b1d87781",
              "version_minor": 0,
              "version_major": 2
            },
            "text/plain": [
              "Button(description='Read the function?\\n Click me!', layout=Layout(height='90px', width='auto'), style=ButtonS…"
            ]
          },
          "metadata": {
            "tags": []
          }
        },
        {
          "output_type": "display_data",
          "data": {
            "application/vnd.jupyter.widget-view+json": {
              "model_id": "9a5fe8d2a809442c95a8c1876a98c3e9",
              "version_minor": 0,
              "version_major": 2
            },
            "text/plain": [
              "Output()"
            ]
          },
          "metadata": {
            "tags": []
          }
        }
      ]
    },
    {
      "cell_type": "markdown",
      "metadata": {
        "id": "7kQtwBBel8xj"
      },
      "source": [
        "#### Below we have the function which trains, tests and returns the best model weights."
      ]
    },
    {
      "cell_type": "code",
      "metadata": {
        "id": "DFbkK9rtl8xk"
      },
      "source": [
        "def model_pipeline(model, criterion, optimizer, dset_loaders, dset_sizes, hyperparameters):\n",
        "    with wandb.init(project=\"HARVAR_BAI\", config=hyperparameters):\n",
        "        if hyperparameters['run_name']:\n",
        "            wandb.run.name = hyperparameters['run_name']\n",
        "        config = wandb.config\n",
        "        best_model = model\n",
        "        best_acc = 0.0\n",
        "        \n",
        "        print(config)\n",
        "        \n",
        "        print(config.num_epochs)\n",
        "        for epoch_num in range(config.num_epochs):\n",
        "            wandb.log({\"Current Epoch\": epoch_num})\n",
        "            model = train_model(model, criterion, optimizer, dset_loaders, dset_sizes, config)\n",
        "            best_acc, best_model = test_model(model, best_acc, best_model, dset_loaders, dset_sizes, config)\n",
        "    \n",
        "    return best_model"
      ],
      "execution_count": 18,
      "outputs": []
    },
    {
      "cell_type": "markdown",
      "metadata": {
        "id": "sbNeL_tOl8xk"
      },
      "source": [
        "#### The different steps of the train model function are annotated below inside the function. Read them step by step"
      ]
    },
    {
      "cell_type": "code",
      "metadata": {
        "id": "8pcCx48Ml8xk"
      },
      "source": [
        "def train_model(model, criterion, optimizer, dset_loaders, dset_sizes, configs):\n",
        "    print('Starting training epoch...')\n",
        "    best_model = model\n",
        "    best_acc = 0.0\n",
        "\n",
        "    \n",
        "    ### This tells python to track gradients. While testing weights aren't updated hence they are not stored.\n",
        "    model.train() \n",
        "    running_loss = 0.0\n",
        "    running_corrects = 0\n",
        "    iters = 0\n",
        "    \n",
        "    \n",
        "    ### We loop over the data loader we created above. Simply using a for loop.\n",
        "    for data in tqdm(dset_loaders['train']):\n",
        "        inputs, labels = data\n",
        "        \n",
        "        ### If you are using a gpu, then script will move the loaded data to the GPU. \n",
        "        ### If you are not using a gpu, ensure that wandb_configs['use_gpu'] is set to False above.\n",
        "        if configs.use_gpu:\n",
        "            inputs = inputs.float().cuda()\n",
        "            labels = labels.long().cuda()\n",
        "        else:\n",
        "            print('WARNING: NOT USING GPU!')\n",
        "            inputs = inputs.float()\n",
        "            labels = labels.long()\n",
        "\n",
        "        \n",
        "        ### We set the gradients to zero, then calculate the outputs, and the loss function. \n",
        "        ### Gradients for this process are automatically calculated by PyTorch.\n",
        "        \n",
        "        optimizer.zero_grad()\n",
        "        outputs = model(inputs)\n",
        "        _, preds = torch.max(outputs.data, 1)\n",
        "\n",
        "        loss = criterion(outputs, labels)\n",
        "        \n",
        "        \n",
        "        ### At this point, the program has calculated gradient of loss w.r.t. weights of our NN model.\n",
        "        loss.backward()\n",
        "        optimizer.step()\n",
        "        \n",
        "        ### optimizer.step() updated the models weights using calculated gradients.\n",
        "        \n",
        "        ### Let's store these and log them using wandb. They will be displayed in a nice online\n",
        "        ### dashboard for you to see.\n",
        "        \n",
        "        iters += 1\n",
        "        running_loss += loss.item()\n",
        "        running_corrects += torch.sum(preds == labels.data)\n",
        "        wandb.log({\"train_running_loss\": running_loss/float(iters*len(labels.data))})\n",
        "        wandb.log({\"train_running_corrects\": running_corrects/float(iters*len(labels.data))})\n",
        "\n",
        "    epoch_loss = float(running_loss) / dset_sizes['train']\n",
        "    epoch_acc = float(running_corrects) / float(dset_sizes['train'])\n",
        "    wandb.log({\"train_accuracy\": epoch_acc})\n",
        "    wandb.log({\"train_loss\": epoch_loss})\n",
        "    return model\n",
        "\n"
      ],
      "execution_count": 19,
      "outputs": []
    },
    {
      "cell_type": "code",
      "metadata": {
        "id": "eIpeVEw-l8xl"
      },
      "source": [
        "def test_model(model, best_acc, best_model, dset_loaders, dset_sizes, configs):\n",
        "    print('Starting testing epoch...')\n",
        "    model.eval() ### tells pytorch to not store gradients as we won't be updating weights while testing.\n",
        "\n",
        "    running_corrects = 0\n",
        "    iters = 0   \n",
        "    for data in tqdm(dset_loaders['test']):\n",
        "        inputs, labels = data\n",
        "        if configs.use_gpu:\n",
        "            inputs = inputs.float().cuda()\n",
        "            labels = labels.long().cuda()\n",
        "        else:\n",
        "            print('WARNING: NOT USING GPU!')\n",
        "            inputs = inputs.float()\n",
        "            labels = labels.long()\n",
        "\n",
        "        \n",
        "        outputs = model(inputs)\n",
        "        _, preds = torch.max(outputs.data, 1)\n",
        "        \n",
        "        iters += 1\n",
        "        running_corrects += torch.sum(preds == labels.data)\n",
        "        wandb.log({\"train_running_corrects\": running_corrects/float(iters*len(labels.data))})\n",
        "\n",
        "\n",
        "    epoch_acc = float(running_corrects) / float(dset_sizes['test'])\n",
        "\n",
        "    wandb.log({\"test_accuracy\": epoch_acc})\n",
        "    \n",
        "    ### Code is very similar to train set. One major difference, we don't update weights. \n",
        "    ### We only check the performance is best so far, if so, we save this model as the best model so far.\n",
        "    \n",
        "    if epoch_acc > best_acc:\n",
        "        best_acc = epoch_acc\n",
        "        best_model = copy.deepcopy(model)\n",
        "    wandb.log({\"best_accuracy\": best_acc})\n",
        "    \n",
        "    return best_acc, best_model\n",
        "    "
      ],
      "execution_count": 20,
      "outputs": []
    },
    {
      "cell_type": "code",
      "metadata": {
        "id": "cjFcCdpTl8xn"
      },
      "source": [
        "### Criterion is simply specifying what loss to use. Here we choose cross entropy loss. \n",
        "criterion = nn.CrossEntropyLoss()\n",
        "\n",
        "### tells what optimizer to use. There are many options, we here choose Adam.\n",
        "### the main difference between optimizers is that they vary in how weights are updated based on calculated gradients.\n",
        "optimizer_ft = optim.Adam(model.parameters(), lr = wandb_config['base_lr'])\n",
        "\n",
        "if wandb_config['use_gpu']:\n",
        "    criterion.cuda()\n",
        "    model.cuda()"
      ],
      "execution_count": 21,
      "outputs": []
    },
    {
      "cell_type": "code",
      "metadata": {
        "id": "TihgbZk_l8xn"
      },
      "source": [
        "### Creating the folder where our models will be saved.\n",
        "if not os.path.isdir(\"%s/saved_models/\"%wandb_config['git_dir']):\n",
        "    os.mkdir(\"%s/saved_models/\"%wandb_config['git_dir'])"
      ],
      "execution_count": 22,
      "outputs": []
    },
    {
      "cell_type": "code",
      "metadata": {
        "colab": {
          "base_uri": "https://localhost:8080/",
          "height": 1129,
          "referenced_widgets": [
            "d92980abaf684860b85c590e689d45c4",
            "e009cbad3ab0427eb9b2029ec77b5348",
            "ad44ed001350477fa6a398837f5c594c",
            "4f93ec2ace934ff79f96d17fed67c1f9",
            "972fd457a78b40a7876148cfed7443c0",
            "c38f989fb1f74431bcddaf0d63caa143",
            "6f553aa27ab140019288b3524656f0a3",
            "2a86694c2f1542c88e5310b293e5f57e",
            "e537d9a7ff174efaa2200351fa45272e",
            "676179d5f0bb439d8023a7c8a64f127f",
            "de6d98318ef445ed81487565ba680834",
            "3e07ff6d8ee24432a5db08358b09fe35",
            "d9c030d4a2e243a193e789911f5ef570",
            "ed4c3095b87640719b547f6ee0ccf6e6",
            "bd555ab1860846ae9b1e91ca473053b6",
            "eaac3f8023f6470790063fa3c3b80794",
            "26cda75a725d479f9eadfbbd51a7c9f5",
            "a57ced5ba2524ebca6223ae088e7cbfc",
            "86ab546b9b394db39461315a450ca275",
            "a223684e72a942a09eee68bd1a903bbb",
            "5c55a575f3c74e3d90068af1f68ccaad",
            "9b0c1a7ecb5141f58e66cca8c29283a6",
            "9d78808ae1174114a26ee214f300294f",
            "35c3ea4227774d3882bb10e83970e4ce",
            "a24501e65ed74b4cb98df25a34700eb0",
            "b0bbc1a9f29547178253352d8ddb580f",
            "d3162d05664949869d6e8905a0178fdc",
            "5282df09acc448f6b2efb92ad6eff8a3",
            "72e484ee63534272ab06471535b12837",
            "59b5722e7f6e4850953895c552cd32c9",
            "19820d1d23a9447cb87efa74e520ee02",
            "65a9d7e8921749d28129375f7b5d7205",
            "aed97fc59b1c4540a7dceff5de454ae4",
            "b457632289a742e58dedd28fec3cff43",
            "c999d4029ca64553ba75887070aae3fb",
            "7f355ef888884b76908b19a242be8006",
            "e02addea1e1e4c2298277b30bfd849b2",
            "727f672e4d244af0bf5bc70801bc5126",
            "d8ca2497c09d4469bcef9a59a107a617",
            "9d17a84f4cbd4258a0495cd2e36592e2"
          ]
        },
        "id": "jvUHRv8vl8xn",
        "outputId": "c051f9e4-0d1e-4fe2-d0d7-ff1eb5020ab9"
      },
      "source": [
        "### Let's run it all, and save the final best model.\n",
        "\n",
        "\n",
        "best_final_model = model_pipeline(model, criterion, optimizer_ft, data_loaders, data_sizes, wandb_config)\n",
        "\n",
        "\n",
        "save_path = '%s/saved_models/%s_final.pt'%(wandb_config['git_dir'], wandb_config['run_name'])\n",
        "with open(save_path,'wb') as F:\n",
        "    torch.save(best_final_model,F)"
      ],
      "execution_count": 23,
      "outputs": [
        {
          "output_type": "display_data",
          "data": {
            "text/html": [
              "\n",
              "                Tracking run with wandb version 0.10.17<br/>\n",
              "                Syncing run <strong style=\"color:#cdcd00\">misunderstood-deluge-2</strong> to <a href=\"https://wandb.ai\" target=\"_blank\">Weights & Biases</a> <a href=\"https://docs.wandb.com/integrations/jupyter.html\" target=\"_blank\">(Documentation)</a>.<br/>\n",
              "                Project page: <a href=\"https://wandb.ai/biankaursul/HARVAR_BAI\" target=\"_blank\">https://wandb.ai/biankaursul/HARVAR_BAI</a><br/>\n",
              "                Run page: <a href=\"https://wandb.ai/biankaursul/HARVAR_BAI/runs/1kcqkr5e\" target=\"_blank\">https://wandb.ai/biankaursul/HARVAR_BAI/runs/1kcqkr5e</a><br/>\n",
              "                Run data is saved locally in <code>/content/wandb/run-20210203_212803-1kcqkr5e</code><br/><br/>\n",
              "            "
            ],
            "text/plain": [
              "<IPython.core.display.HTML object>"
            ]
          },
          "metadata": {
            "tags": []
          }
        },
        {
          "output_type": "stream",
          "text": [
            "{'batch_size': 10, 'base_lr': 0.01, 'model_arch': 'CustomCNN', 'num_classes': 10, 'run_name': 'assignment_1', 'use_gpu': 1, 'num_epochs': 2, 'git_dir': '/content/drive/MyDrive/Harvard_BAI'}\n",
            "2\n",
            "Starting training epoch...\n"
          ],
          "name": "stdout"
        },
        {
          "output_type": "display_data",
          "data": {
            "application/vnd.jupyter.widget-view+json": {
              "model_id": "d92980abaf684860b85c590e689d45c4",
              "version_minor": 0,
              "version_major": 2
            },
            "text/plain": [
              "HBox(children=(FloatProgress(value=0.0, max=6000.0), HTML(value='')))"
            ]
          },
          "metadata": {
            "tags": []
          }
        },
        {
          "output_type": "stream",
          "text": [
            "\n",
            "Starting testing epoch...\n"
          ],
          "name": "stdout"
        },
        {
          "output_type": "display_data",
          "data": {
            "application/vnd.jupyter.widget-view+json": {
              "model_id": "e537d9a7ff174efaa2200351fa45272e",
              "version_minor": 0,
              "version_major": 2
            },
            "text/plain": [
              "HBox(children=(FloatProgress(value=0.0, max=1000.0), HTML(value='')))"
            ]
          },
          "metadata": {
            "tags": []
          }
        },
        {
          "output_type": "stream",
          "text": [
            "\n",
            "Starting training epoch...\n"
          ],
          "name": "stdout"
        },
        {
          "output_type": "display_data",
          "data": {
            "application/vnd.jupyter.widget-view+json": {
              "model_id": "26cda75a725d479f9eadfbbd51a7c9f5",
              "version_minor": 0,
              "version_major": 2
            },
            "text/plain": [
              "HBox(children=(FloatProgress(value=0.0, max=6000.0), HTML(value='')))"
            ]
          },
          "metadata": {
            "tags": []
          }
        },
        {
          "output_type": "stream",
          "text": [
            "\n",
            "Starting testing epoch...\n"
          ],
          "name": "stdout"
        },
        {
          "output_type": "display_data",
          "data": {
            "application/vnd.jupyter.widget-view+json": {
              "model_id": "a24501e65ed74b4cb98df25a34700eb0",
              "version_minor": 0,
              "version_major": 2
            },
            "text/plain": [
              "HBox(children=(FloatProgress(value=0.0, max=1000.0), HTML(value='')))"
            ]
          },
          "metadata": {
            "tags": []
          }
        },
        {
          "output_type": "stream",
          "text": [
            "\n"
          ],
          "name": "stdout"
        },
        {
          "output_type": "display_data",
          "data": {
            "text/html": [
              "<br/>Waiting for W&B process to finish, PID 304<br/>Program ended successfully."
            ],
            "text/plain": [
              "<IPython.core.display.HTML object>"
            ]
          },
          "metadata": {
            "tags": []
          }
        },
        {
          "output_type": "display_data",
          "data": {
            "application/vnd.jupyter.widget-view+json": {
              "model_id": "aed97fc59b1c4540a7dceff5de454ae4",
              "version_minor": 0,
              "version_major": 2
            },
            "text/plain": [
              "VBox(children=(Label(value=' 0.00MB of 0.00MB uploaded (0.00MB deduped)\\r'), FloatProgress(value=1.0, max=1.0)…"
            ]
          },
          "metadata": {
            "tags": []
          }
        },
        {
          "output_type": "display_data",
          "data": {
            "text/html": [
              "Find user logs for this run at: <code>/content/wandb/run-20210203_212803-1kcqkr5e/logs/debug.log</code>"
            ],
            "text/plain": [
              "<IPython.core.display.HTML object>"
            ]
          },
          "metadata": {
            "tags": []
          }
        },
        {
          "output_type": "display_data",
          "data": {
            "text/html": [
              "Find internal logs for this run at: <code>/content/wandb/run-20210203_212803-1kcqkr5e/logs/debug-internal.log</code>"
            ],
            "text/plain": [
              "<IPython.core.display.HTML object>"
            ]
          },
          "metadata": {
            "tags": []
          }
        },
        {
          "output_type": "display_data",
          "data": {
            "text/html": [
              "<h3>Run summary:</h3><br/><style>\n",
              "    table.wandb td:nth-child(1) { padding: 0 10px; text-align: right }\n",
              "    </style><table class=\"wandb\">\n",
              "<tr><td>Current Epoch</td><td>1</td></tr><tr><td>_step</td><td>26009</td></tr><tr><td>_runtime</td><td>114</td></tr><tr><td>_timestamp</td><td>1612387798</td></tr><tr><td>train_running_loss</td><td>0.20574</td></tr><tr><td>train_running_corrects</td><td>0.4634</td></tr><tr><td>train_accuracy</td><td>0.42647</td></tr><tr><td>train_loss</td><td>0.20574</td></tr><tr><td>test_accuracy</td><td>0.4634</td></tr><tr><td>best_accuracy</td><td>0.4634</td></tr></table>"
            ],
            "text/plain": [
              "<IPython.core.display.HTML object>"
            ]
          },
          "metadata": {
            "tags": []
          }
        },
        {
          "output_type": "display_data",
          "data": {
            "text/html": [
              "<h3>Run history:</h3><br/><style>\n",
              "    table.wandb td:nth-child(1) { padding: 0 10px; text-align: right }\n",
              "    </style><table class=\"wandb\">\n",
              "<tr><td>Current Epoch</td><td>▁█</td></tr><tr><td>_step</td><td>▁▁▁▁▂▂▂▂▂▃▃▃▃▃▃▄▄▄▄▄▅▅▅▅▅▅▆▆▆▆▆▇▇▇▇▇▇███</td></tr><tr><td>_runtime</td><td>▁▁▁▂▂▂▂▂▂▃▃▃▃▃▃▄▄▄▄▄▅▅▅▅▅▅▆▆▆▆▆▆▇▇▇▇▇███</td></tr><tr><td>_timestamp</td><td>▁▁▁▂▂▂▂▂▂▃▃▃▃▃▃▄▄▄▄▄▅▅▅▅▅▅▆▆▆▆▆▆▇▇▇▇▇███</td></tr><tr><td>train_running_loss</td><td>█▇▅▄▄▄▄▄▃▃▃▄▄▄▃▃▃▃▃▃▂▁▁▁▁▁▂▂▂▂▂▂▂▂▂▂▂▂▂▂</td></tr><tr><td>train_running_corrects</td><td>▁▂▄▄▅▅▅▅▅▅▅▅▅▅▅▆▆▇▇▇▇▇▇▇▇▆▆▆▇▇▇▇▇▇▇▇▇███</td></tr><tr><td>train_accuracy</td><td>▁█</td></tr><tr><td>train_loss</td><td>█▁</td></tr><tr><td>test_accuracy</td><td>▁█</td></tr><tr><td>best_accuracy</td><td>▁█</td></tr></table><br/>"
            ],
            "text/plain": [
              "<IPython.core.display.HTML object>"
            ]
          },
          "metadata": {
            "tags": []
          }
        },
        {
          "output_type": "display_data",
          "data": {
            "text/html": [
              "Synced 5 W&B file(s), 0 media file(s), 0 artifact file(s) and 0 other file(s)"
            ],
            "text/plain": [
              "<IPython.core.display.HTML object>"
            ]
          },
          "metadata": {
            "tags": []
          }
        },
        {
          "output_type": "display_data",
          "data": {
            "text/html": [
              "\n",
              "                    <br/>Synced <strong style=\"color:#cdcd00\">misunderstood-deluge-2</strong>: <a href=\"https://wandb.ai/biankaursul/HARVAR_BAI/runs/1kcqkr5e\" target=\"_blank\">https://wandb.ai/biankaursul/HARVAR_BAI/runs/1kcqkr5e</a><br/>\n",
              "                "
            ],
            "text/plain": [
              "<IPython.core.display.HTML object>"
            ]
          },
          "metadata": {
            "tags": []
          }
        }
      ]
    },
    {
      "cell_type": "markdown",
      "metadata": {
        "id": "2JAvpsdrl8xo"
      },
      "source": [
        "### Congratulations!\n",
        "\n",
        "You just completed your first deep learning program - image classification for MNIST. This wraps up assignment 1. In the next assignment, we will see how you can make changes to above mentioned folders/files to adapt this code-base to your own research project."
      ]
    },
    {
      "cell_type": "markdown",
      "metadata": {
        "id": "eRh-PaMyl8xo"
      },
      "source": [
        "# Deliverables for Assignment 1: \n",
        "\n",
        "### Please run this assignment through to the end, and then make two submissions:\n",
        "\n",
        "- Download this notebook as an HTML file. Click File ---> Download as ---> HTML. Submit this on canvas.\n",
        "- Add, commit and push these changes to your github repository."
      ]
    },
    {
      "cell_type": "code",
      "metadata": {
        "id": "enm1guEZl8xo"
      },
      "source": [
        ""
      ],
      "execution_count": null,
      "outputs": []
    }
  ]
}
=======
{"nbformat":4,"nbformat_minor":0,"metadata":{"kernelspec":{"display_name":"bai","language":"python","name":"bai"},"language_info":{"codemirror_mode":{"name":"ipython","version":3},"file_extension":".py","mimetype":"text/x-python","name":"python","nbconvert_exporter":"python","pygments_lexer":"ipython3","version":"3.5.6"},"colab":{"name":"assignment_1.ipynb","provenance":[],"collapsed_sections":[],"toc_visible":true},"widgets":{"application/vnd.jupyter.widget-state+json":{"fca4a46c3e954e9ca38032fe64608be4":{"model_module":"@jupyter-widgets/controls","model_name":"ButtonModel","state":{"_view_name":"ButtonView","style":"IPY_MODEL_88489a8378ff42acbc9be683412fe6dd","_dom_classes":[],"description":"Read the function?\n Click me!","_model_name":"ButtonModel","button_style":"","_view_module":"@jupyter-widgets/controls","_model_module_version":"1.5.0","tooltip":"","_view_count":null,"disabled":false,"_view_module_version":"1.5.0","layout":"IPY_MODEL_b66deffcc82643a6814dd6f018d0f008","_model_module":"@jupyter-widgets/controls","icon":""}},"88489a8378ff42acbc9be683412fe6dd":{"model_module":"@jupyter-widgets/controls","model_name":"ButtonStyleModel","state":{"_view_name":"StyleView","_model_name":"ButtonStyleModel","_view_module":"@jupyter-widgets/base","_model_module_version":"1.5.0","_view_count":null,"button_color":null,"font_weight":"","_view_module_version":"1.2.0","_model_module":"@jupyter-widgets/controls"}},"b66deffcc82643a6814dd6f018d0f008":{"model_module":"@jupyter-widgets/base","model_name":"LayoutModel","state":{"_view_name":"LayoutView","grid_template_rows":null,"right":null,"justify_content":null,"_view_module":"@jupyter-widgets/base","overflow":null,"_model_module_version":"1.2.0","_view_count":null,"flex_flow":null,"width":"auto","min_width":null,"border":null,"align_items":null,"bottom":null,"_model_module":"@jupyter-widgets/base","top":null,"grid_column":null,"overflow_y":null,"overflow_x":null,"grid_auto_flow":null,"grid_area":null,"grid_template_columns":null,"flex":null,"_model_name":"LayoutModel","justify_items":null,"grid_row":null,"max_height":null,"align_content":null,"visibility":null,"align_self":null,"height":"90px","min_height":null,"padding":null,"grid_auto_rows":null,"grid_gap":null,"max_width":null,"order":null,"_view_module_version":"1.2.0","grid_template_areas":null,"object_position":null,"object_fit":null,"grid_auto_columns":null,"margin":null,"display":null,"left":null}},"922e59fd27c149a39987451c02477453":{"model_module":"@jupyter-widgets/output","model_name":"OutputModel","state":{"_view_name":"OutputView","msg_id":"","_dom_classes":[],"_model_name":"OutputModel","outputs":[],"_view_module":"@jupyter-widgets/output","_model_module_version":"1.0.0","_view_count":null,"_view_module_version":"1.0.0","layout":"IPY_MODEL_c8accc853b4c4e9f8b1a5b4b976b4e23","_model_module":"@jupyter-widgets/output"}},"c8accc853b4c4e9f8b1a5b4b976b4e23":{"model_module":"@jupyter-widgets/base","model_name":"LayoutModel","state":{"_view_name":"LayoutView","grid_template_rows":null,"right":null,"justify_content":null,"_view_module":"@jupyter-widgets/base","overflow":null,"_model_module_version":"1.2.0","_view_count":null,"flex_flow":null,"width":null,"min_width":null,"border":null,"align_items":null,"bottom":null,"_model_module":"@jupyter-widgets/base","top":null,"grid_column":null,"overflow_y":null,"overflow_x":null,"grid_auto_flow":null,"grid_area":null,"grid_template_columns":null,"flex":null,"_model_name":"LayoutModel","justify_items":null,"grid_row":null,"max_height":null,"align_content":null,"visibility":null,"align_self":null,"height":null,"min_height":null,"padding":null,"grid_auto_rows":null,"grid_gap":null,"max_width":null,"order":null,"_view_module_version":"1.2.0","grid_template_areas":null,"object_position":null,"object_fit":null,"grid_auto_columns":null,"margin":null,"display":null,"left":null}},"dbeb947a70814510976ef5fd8e34f295":{"model_module":"@jupyter-widgets/controls","model_name":"HBoxModel","state":{"_view_name":"HBoxView","_dom_classes":[],"_model_name":"HBoxModel","_view_module":"@jupyter-widgets/controls","_model_module_version":"1.5.0","_view_count":null,"_view_module_version":"1.5.0","box_style":"","layout":"IPY_MODEL_45d3b0afa0f14a07b20fc371acd3ba6b","_model_module":"@jupyter-widgets/controls","children":["IPY_MODEL_52abe6174af24061831094b1207cd843","IPY_MODEL_e1d9b05fed70487a93aeb75e81726e4c"]}},"45d3b0afa0f14a07b20fc371acd3ba6b":{"model_module":"@jupyter-widgets/base","model_name":"LayoutModel","state":{"_view_name":"LayoutView","grid_template_rows":null,"right":null,"justify_content":null,"_view_module":"@jupyter-widgets/base","overflow":null,"_model_module_version":"1.2.0","_view_count":null,"flex_flow":null,"width":null,"min_width":null,"border":null,"align_items":null,"bottom":null,"_model_module":"@jupyter-widgets/base","top":null,"grid_column":null,"overflow_y":null,"overflow_x":null,"grid_auto_flow":null,"grid_area":null,"grid_template_columns":null,"flex":null,"_model_name":"LayoutModel","justify_items":null,"grid_row":null,"max_height":null,"align_content":null,"visibility":null,"align_self":null,"height":null,"min_height":null,"padding":null,"grid_auto_rows":null,"grid_gap":null,"max_width":null,"order":null,"_view_module_version":"1.2.0","grid_template_areas":null,"object_position":null,"object_fit":null,"grid_auto_columns":null,"margin":null,"display":null,"left":null}},"52abe6174af24061831094b1207cd843":{"model_module":"@jupyter-widgets/controls","model_name":"FloatProgressModel","state":{"_view_name":"ProgressView","style":"IPY_MODEL_bcdfb20486404cd8aac5efaa70b8ba2b","_dom_classes":[],"description":"  0%","_model_name":"FloatProgressModel","bar_style":"","max":6000,"_view_module":"@jupyter-widgets/controls","_model_module_version":"1.5.0","value":0,"_view_count":null,"_view_module_version":"1.5.0","orientation":"horizontal","min":0,"description_tooltip":null,"_model_module":"@jupyter-widgets/controls","layout":"IPY_MODEL_55a8da2af315484cbee80493aa0a2d34"}},"e1d9b05fed70487a93aeb75e81726e4c":{"model_module":"@jupyter-widgets/controls","model_name":"HTMLModel","state":{"_view_name":"HTMLView","style":"IPY_MODEL_8ed09a2afd9b4dc59ecf92df757d1b53","_dom_classes":[],"description":"","_model_name":"HTMLModel","placeholder":"​","_view_module":"@jupyter-widgets/controls","_model_module_version":"1.5.0","value":" 0/6000 [00:00&lt;?, ?it/s]","_view_count":null,"_view_module_version":"1.5.0","description_tooltip":null,"_model_module":"@jupyter-widgets/controls","layout":"IPY_MODEL_021623db8dbb48328ee893b3794886b1"}},"bcdfb20486404cd8aac5efaa70b8ba2b":{"model_module":"@jupyter-widgets/controls","model_name":"ProgressStyleModel","state":{"_view_name":"StyleView","_model_name":"ProgressStyleModel","description_width":"initial","_view_module":"@jupyter-widgets/base","_model_module_version":"1.5.0","_view_count":null,"_view_module_version":"1.2.0","bar_color":null,"_model_module":"@jupyter-widgets/controls"}},"55a8da2af315484cbee80493aa0a2d34":{"model_module":"@jupyter-widgets/base","model_name":"LayoutModel","state":{"_view_name":"LayoutView","grid_template_rows":null,"right":null,"justify_content":null,"_view_module":"@jupyter-widgets/base","overflow":null,"_model_module_version":"1.2.0","_view_count":null,"flex_flow":null,"width":null,"min_width":null,"border":null,"align_items":null,"bottom":null,"_model_module":"@jupyter-widgets/base","top":null,"grid_column":null,"overflow_y":null,"overflow_x":null,"grid_auto_flow":null,"grid_area":null,"grid_template_columns":null,"flex":null,"_model_name":"LayoutModel","justify_items":null,"grid_row":null,"max_height":null,"align_content":null,"visibility":null,"align_self":null,"height":null,"min_height":null,"padding":null,"grid_auto_rows":null,"grid_gap":null,"max_width":null,"order":null,"_view_module_version":"1.2.0","grid_template_areas":null,"object_position":null,"object_fit":null,"grid_auto_columns":null,"margin":null,"display":null,"left":null}},"8ed09a2afd9b4dc59ecf92df757d1b53":{"model_module":"@jupyter-widgets/controls","model_name":"DescriptionStyleModel","state":{"_view_name":"StyleView","_model_name":"DescriptionStyleModel","description_width":"","_view_module":"@jupyter-widgets/base","_model_module_version":"1.5.0","_view_count":null,"_view_module_version":"1.2.0","_model_module":"@jupyter-widgets/controls"}},"021623db8dbb48328ee893b3794886b1":{"model_module":"@jupyter-widgets/base","model_name":"LayoutModel","state":{"_view_name":"LayoutView","grid_template_rows":null,"right":null,"justify_content":null,"_view_module":"@jupyter-widgets/base","overflow":null,"_model_module_version":"1.2.0","_view_count":null,"flex_flow":null,"width":null,"min_width":null,"border":null,"align_items":null,"bottom":null,"_model_module":"@jupyter-widgets/base","top":null,"grid_column":null,"overflow_y":null,"overflow_x":null,"grid_auto_flow":null,"grid_area":null,"grid_template_columns":null,"flex":null,"_model_name":"LayoutModel","justify_items":null,"grid_row":null,"max_height":null,"align_content":null,"visibility":null,"align_self":null,"height":null,"min_height":null,"padding":null,"grid_auto_rows":null,"grid_gap":null,"max_width":null,"order":null,"_view_module_version":"1.2.0","grid_template_areas":null,"object_position":null,"object_fit":null,"grid_auto_columns":null,"margin":null,"display":null,"left":null}}}}},"cells":[{"cell_type":"markdown","metadata":{"id":"KMd5XFEMpmkG"},"source":["<html>\n","<body>\n","    <center> \n","        <h1><u>Assignment 1</u></h1>\n","        <h3> Quick intro + checking code works on your system </h3>\n","    </center>\n","</body>\n","</html>"]},{"cell_type":"markdown","metadata":{"id":"qvQQRsLvpmkM"},"source":["### Learning Outcomes: The goal of this assignment is two-fold:\n","\n","- This code-base is designed to be easily extended for different research projects. Running this notebook to the end will ensure that the code runs on your system, and that you are set-up to start playing with machine learning code.\n","- This notebook has one complete application: training a CNN classifier to predict the digit in MNIST Images. The code is written to familiarize you to a typical machine learning pipeline, and to the building blocks of code used to do ML. So, read on! "]},{"cell_type":"markdown","metadata":{"id":"CIBmTQh_pmkN"},"source":["### Please specify your Name, Email ID and forked repository url here:\n","- Name: Spandan\n","- Email:\n","- Link to your forked github repository:"]},{"cell_type":"code","metadata":{"id":"JLZ79lZUpmkN"},"source":["### General libraries useful for python ###\n","\n","import os\n","import sys\n","from tqdm.notebook import tqdm\n","import json\n","import random\n","import pickle\n","import copy\n","from IPython.display import display\n","import ipywidgets as widgets"],"execution_count":null,"outputs":[]},{"cell_type":"code","metadata":{"id":"kRmp5x-wMVDS"},"source":[""],"execution_count":null,"outputs":[]},{"cell_type":"code","metadata":{"id":"yliO9WELTm_8"},"source":["# !pip install scipy`"],"execution_count":null,"outputs":[]},{"cell_type":"code","metadata":{"colab":{"base_uri":"https://localhost:8080/"},"id":"gLOqAsD4yTjn","executionInfo":{"status":"ok","timestamp":1612746498883,"user_tz":300,"elapsed":17980,"user":{"displayName":"Spandan Madan","photoUrl":"","userId":"18305993989659529139"}},"outputId":"28907227-3840-4be6-b7f7-f1b23ce2d1cf"},"source":["from google.colab import drive\n","drive.mount('/content/drive')"],"execution_count":1,"outputs":[{"output_type":"stream","text":["Mounted at /content/drive\n"],"name":"stdout"}]},{"cell_type":"code","metadata":{"id":"NBYo9vxspmkN","colab":{"base_uri":"https://localhost:8080/"},"executionInfo":{"status":"ok","timestamp":1612746502636,"user_tz":300,"elapsed":366,"user":{"displayName":"Spandan Madan","photoUrl":"","userId":"18305993989659529139"}},"outputId":"f3532660-43ee-4393-ebe8-75f04d71ec83"},"source":["\n","### Finding where you clone your repo, so that code upstream paths can be specified programmatically ####\n","git_dir = '/content/drive/MyDrive/Harvard_BAI'\n","print('Your github directory is :%s'%git_dir)"],"execution_count":2,"outputs":[{"output_type":"stream","text":["Your github directory is :/content/drive/MyDrive/Harvard_BAI\n"],"name":"stdout"}]},{"cell_type":"code","metadata":{"id":"qBHqiYHSMY9t","executionInfo":{"status":"ok","timestamp":1612746699488,"user_tz":300,"elapsed":293,"user":{"displayName":"Spandan Madan","photoUrl":"","userId":"18305993989659529139"}}},"source":["os.chdir(git_dir)"],"execution_count":5,"outputs":[]},{"cell_type":"code","metadata":{"colab":{"base_uri":"https://localhost:8080/"},"id":"SDcHGbwhMbu8","executionInfo":{"status":"ok","timestamp":1612746822244,"user_tz":300,"elapsed":319,"user":{"displayName":"Spandan Madan","photoUrl":"","userId":"18305993989659529139"}},"outputId":"93721288-ec64-4803-9db0-2c36b80b4b02"},"source":["!pwd"],"execution_count":12,"outputs":[{"output_type":"stream","text":["/content/drive/My Drive/Harvard_BAI\n"],"name":"stdout"}]},{"cell_type":"code","metadata":{"id":"L2vk8XYjpmkO"},"source":["### Libraries for visualizing our results and data ###\n","from PIL import Image\n","import matplotlib.pyplot as plt"],"execution_count":null,"outputs":[]},{"cell_type":"code","metadata":{"scrolled":false,"id":"stYTIO0EpmkP"},"source":["### Import PyTorch and its components ###\n","import torch\n","import torchvision\n","import torch.nn as nn\n","import torch.optim as optim"],"execution_count":null,"outputs":[]},{"cell_type":"markdown","metadata":{"id":"pw2HumdXpmkP"},"source":["#### Let's load our flexible code-base which you will build on for your research projects in future assignments.\n","\n","Above we have imported modules (libraries for those familiar to programming languages other than python). These modules are of two kinds - (1) inbuilt python modules like `os`, `sys`, `random`, or (2) ones which we installed using conda (ex. `torch`).\n","\n","Below we will be importing our own written code which resides in the `res` folder in your github directory. This is structured to be easily expandable for different machine learning projects. Suppose that you want to do a project on object detection. You can easily add a few files to the sub-folders within `res`, and this script will then be flexibly do detection instead of classication (which is presented here). Expanding on this codebase will be the main subject matter of Assignment 2. For now, let's continue with importing."]},{"cell_type":"code","metadata":{"colab":{"base_uri":"https://localhost:8080/","height":34},"id":"2cMjuS3cUTsr","executionInfo":{"status":"ok","timestamp":1612488732454,"user_tz":300,"elapsed":279,"user":{"displayName":"Spandan Madan","photoUrl":"","userId":"18305993989659529139"}},"outputId":"983db933-59db-43b9-b266-ab1e995eaee0"},"source":["'%s/res/'%git_dir"],"execution_count":null,"outputs":[{"output_type":"execute_result","data":{"application/vnd.google.colaboratory.intrinsic+json":{"type":"string"},"text/plain":["'/res/'"]},"metadata":{"tags":[]},"execution_count":7}]},{"cell_type":"code","metadata":{"id":"szMvs_vJpmkP","colab":{"base_uri":"https://localhost:8080/","height":340},"executionInfo":{"status":"error","timestamp":1612488732744,"user_tz":300,"elapsed":436,"user":{"displayName":"Spandan Madan","photoUrl":"","userId":"18305993989659529139"}},"outputId":"e9fcfc04-bb6b-4dd2-f743-a22efae0b2f8"},"source":["### Making helper code under the folder res available. This includes loaders, models, etc. ###\n","sys.path.append('%s/res/'%git_dir)\n","from models.models import get_model\n","from loader.loader import get_loader"],"execution_count":null,"outputs":[{"output_type":"error","ename":"ModuleNotFoundError","evalue":"ignored","traceback":["\u001b[0;31m---------------------------------------------------------------------------\u001b[0m","\u001b[0;31mModuleNotFoundError\u001b[0m                       Traceback (most recent call last)","\u001b[0;32m<ipython-input-8-c89d3a64f08d>\u001b[0m in \u001b[0;36m<module>\u001b[0;34m()\u001b[0m\n\u001b[1;32m      1\u001b[0m \u001b[0;31m### Making helper code under the folder res available. This includes loaders, models, etc. ###\u001b[0m\u001b[0;34m\u001b[0m\u001b[0;34m\u001b[0m\u001b[0;34m\u001b[0m\u001b[0m\n\u001b[1;32m      2\u001b[0m \u001b[0msys\u001b[0m\u001b[0;34m.\u001b[0m\u001b[0mpath\u001b[0m\u001b[0;34m.\u001b[0m\u001b[0mappend\u001b[0m\u001b[0;34m(\u001b[0m\u001b[0;34m'%s/res/'\u001b[0m\u001b[0;34m%\u001b[0m\u001b[0mgit_dir\u001b[0m\u001b[0;34m)\u001b[0m\u001b[0;34m\u001b[0m\u001b[0;34m\u001b[0m\u001b[0m\n\u001b[0;32m----> 3\u001b[0;31m \u001b[0;32mfrom\u001b[0m \u001b[0mmodels\u001b[0m\u001b[0;34m.\u001b[0m\u001b[0mmodels\u001b[0m \u001b[0;32mimport\u001b[0m \u001b[0mget_model\u001b[0m\u001b[0;34m\u001b[0m\u001b[0;34m\u001b[0m\u001b[0m\n\u001b[0m\u001b[1;32m      4\u001b[0m \u001b[0;32mfrom\u001b[0m \u001b[0mloader\u001b[0m\u001b[0;34m.\u001b[0m\u001b[0mloader\u001b[0m \u001b[0;32mimport\u001b[0m \u001b[0mget_loader\u001b[0m\u001b[0;34m\u001b[0m\u001b[0;34m\u001b[0m\u001b[0m\n","\u001b[0;31mModuleNotFoundError\u001b[0m: No module named 'models'","","\u001b[0;31m---------------------------------------------------------------------------\u001b[0;32m\nNOTE: If your import is failing due to a missing package, you can\nmanually install dependencies using either !pip or !apt.\n\nTo view examples of installing some common dependencies, click the\n\"Open Examples\" button below.\n\u001b[0;31m---------------------------------------------------------------------------\u001b[0m\n"]}]},{"cell_type":"markdown","metadata":{"id":"nAVtuHh0pmkQ"},"source":["#### See those paths printed above?"]},{"cell_type":"markdown","metadata":{"id":"MV_MPAjxpmkQ"},"source":["`res/models` holds different model files. So, if you want to load ResNet architecture or a transformers architecture, they will reside there as separate files. \n","\n","Similarly, `res/loader` holds programs which are designed to load different types of data. For example, you may want to load data differently for object classification and detection. For classification each image will have only a numerical label corresponding to its category. For detection, the labels for the same image would contain bounding boxes for different objects and the type of the object in the box. \n","\n","So, to expand further you will be adding files to the folders above."]},{"cell_type":"markdown","metadata":{"scrolled":true,"id":"2ObKxhenpmkQ"},"source":["### Setting up Weights and Biases for tracking your experiments. ###\n","\n","We have Weights and Biases (wandb.ai) integrated into the code for easy visualization of results and for tracking performance. `Please make an account at wandb.ai, and follow the steps to login to your account!`"]},{"cell_type":"code","metadata":{"colab":{"base_uri":"https://localhost:8080/"},"id":"nYp22bt7y14F","executionInfo":{"status":"ok","timestamp":1612396505989,"user_tz":300,"elapsed":10621,"user":{"displayName":"Spandan Madan","photoUrl":"","userId":"18305993989659529139"}},"outputId":"8412bc6c-4458-40b5-bfbd-a40f41cc9a1c"},"source":["!pip install wandb"],"execution_count":null,"outputs":[{"output_type":"stream","text":["Collecting wandb\n","\u001b[?25l  Downloading https://files.pythonhosted.org/packages/72/85/941042d55708fe30f95d799b5380ea5601ea6c50ab3cf06c0b2dad02129c/wandb-0.10.17-py2.py3-none-any.whl (2.0MB)\n","\u001b[K     |████████████████████████████████| 2.0MB 5.6MB/s \n","\u001b[?25hRequirement already satisfied: requests<3,>=2.0.0 in /usr/local/lib/python3.6/dist-packages (from wandb) (2.23.0)\n","Collecting shortuuid>=0.5.0\n","  Downloading https://files.pythonhosted.org/packages/25/a6/2ecc1daa6a304e7f1b216f0896b26156b78e7c38e1211e9b798b4716c53d/shortuuid-1.0.1-py3-none-any.whl\n","Requirement already satisfied: psutil>=5.0.0 in /usr/local/lib/python3.6/dist-packages (from wandb) (5.4.8)\n","Collecting docker-pycreds>=0.4.0\n","  Downloading https://files.pythonhosted.org/packages/f5/e8/f6bd1eee09314e7e6dee49cbe2c5e22314ccdb38db16c9fc72d2fa80d054/docker_pycreds-0.4.0-py2.py3-none-any.whl\n","Requirement already satisfied: protobuf>=3.12.0 in /usr/local/lib/python3.6/dist-packages (from wandb) (3.12.4)\n","Collecting configparser>=3.8.1\n","  Downloading https://files.pythonhosted.org/packages/08/b2/ef713e0e67f6e7ec7d59aea3ee78d05b39c15930057e724cc6d362a8c3bb/configparser-5.0.1-py3-none-any.whl\n","Requirement already satisfied: six>=1.13.0 in /usr/local/lib/python3.6/dist-packages (from wandb) (1.15.0)\n","Requirement already satisfied: Click>=7.0 in /usr/local/lib/python3.6/dist-packages (from wandb) (7.1.2)\n","Collecting subprocess32>=3.5.3\n","\u001b[?25l  Downloading https://files.pythonhosted.org/packages/32/c8/564be4d12629b912ea431f1a50eb8b3b9d00f1a0b1ceff17f266be190007/subprocess32-3.5.4.tar.gz (97kB)\n","\u001b[K     |████████████████████████████████| 102kB 6.3MB/s \n","\u001b[?25hCollecting pathtools\n","  Downloading https://files.pythonhosted.org/packages/e7/7f/470d6fcdf23f9f3518f6b0b76be9df16dcc8630ad409947f8be2eb0ed13a/pathtools-0.1.2.tar.gz\n","Requirement already satisfied: PyYAML in /usr/local/lib/python3.6/dist-packages (from wandb) (3.13)\n","Requirement already satisfied: promise<3,>=2.0 in /usr/local/lib/python3.6/dist-packages (from wandb) (2.3)\n","Collecting GitPython>=1.0.0\n","\u001b[?25l  Downloading https://files.pythonhosted.org/packages/d7/cb/ec98155c501b68dcb11314c7992cd3df6dce193fd763084338a117967d53/GitPython-3.1.12-py3-none-any.whl (159kB)\n","\u001b[K     |████████████████████████████████| 163kB 19.6MB/s \n","\u001b[?25hCollecting sentry-sdk>=0.4.0\n","\u001b[?25l  Downloading https://files.pythonhosted.org/packages/b1/5c/018bf9a5c24343a664deaea70e61f33f53bb1bd3caf193110f827bfd07e2/sentry_sdk-0.19.5-py2.py3-none-any.whl (128kB)\n","\u001b[K     |████████████████████████████████| 133kB 16.9MB/s \n","\u001b[?25hRequirement already satisfied: python-dateutil>=2.6.1 in /usr/local/lib/python3.6/dist-packages (from wandb) (2.8.1)\n","Requirement already satisfied: chardet<4,>=3.0.2 in /usr/local/lib/python3.6/dist-packages (from requests<3,>=2.0.0->wandb) (3.0.4)\n","Requirement already satisfied: certifi>=2017.4.17 in /usr/local/lib/python3.6/dist-packages (from requests<3,>=2.0.0->wandb) (2020.12.5)\n","Requirement already satisfied: urllib3!=1.25.0,!=1.25.1,<1.26,>=1.21.1 in /usr/local/lib/python3.6/dist-packages (from requests<3,>=2.0.0->wandb) (1.24.3)\n","Requirement already satisfied: idna<3,>=2.5 in /usr/local/lib/python3.6/dist-packages (from requests<3,>=2.0.0->wandb) (2.10)\n","Requirement already satisfied: setuptools in /usr/local/lib/python3.6/dist-packages (from protobuf>=3.12.0->wandb) (53.0.0)\n","Collecting gitdb<5,>=4.0.1\n","\u001b[?25l  Downloading https://files.pythonhosted.org/packages/48/11/d1800bca0a3bae820b84b7d813ad1eff15a48a64caea9c823fc8c1b119e8/gitdb-4.0.5-py3-none-any.whl (63kB)\n","\u001b[K     |████████████████████████████████| 71kB 7.0MB/s \n","\u001b[?25hCollecting smmap<4,>=3.0.1\n","  Downloading https://files.pythonhosted.org/packages/d5/1e/6130925131f639b2acde0f7f18b73e33ce082ff2d90783c436b52040af5a/smmap-3.0.5-py2.py3-none-any.whl\n","Building wheels for collected packages: subprocess32, pathtools\n","  Building wheel for subprocess32 (setup.py) ... \u001b[?25l\u001b[?25hdone\n","  Created wheel for subprocess32: filename=subprocess32-3.5.4-cp36-none-any.whl size=6490 sha256=16e1ae8c88fa2a9fb6840e80cd3196a997f52304d443308733a3c7a0bb8c28b6\n","  Stored in directory: /root/.cache/pip/wheels/68/39/1a/5e402bdfdf004af1786c8b853fd92f8c4a04f22aad179654d1\n","  Building wheel for pathtools (setup.py) ... \u001b[?25l\u001b[?25hdone\n","  Created wheel for pathtools: filename=pathtools-0.1.2-cp36-none-any.whl size=8785 sha256=590b35c4bb00cf71c7db764754763a86656593e6cafe068e64dd1595a091b692\n","  Stored in directory: /root/.cache/pip/wheels/0b/04/79/c3b0c3a0266a3cb4376da31e5bfe8bba0c489246968a68e843\n","Successfully built subprocess32 pathtools\n","Installing collected packages: shortuuid, docker-pycreds, configparser, subprocess32, pathtools, smmap, gitdb, GitPython, sentry-sdk, wandb\n","Successfully installed GitPython-3.1.12 configparser-5.0.1 docker-pycreds-0.4.0 gitdb-4.0.5 pathtools-0.1.2 sentry-sdk-0.19.5 shortuuid-1.0.1 smmap-3.0.5 subprocess32-3.5.4 wandb-0.10.17\n"],"name":"stdout"}]},{"cell_type":"code","metadata":{"scrolled":true,"id":"k8aPRoLWpmkQ","colab":{"base_uri":"https://localhost:8080/","height":98},"executionInfo":{"status":"ok","timestamp":1612396523276,"user_tz":300,"elapsed":18572,"user":{"displayName":"Spandan Madan","photoUrl":"","userId":"18305993989659529139"}},"outputId":"9815b050-75bf-4451-aa85-796816f4060d"},"source":["import wandb\n","wandb.login()"],"execution_count":null,"outputs":[{"output_type":"display_data","data":{"application/javascript":["\n","        window._wandbApiKey = new Promise((resolve, reject) => {\n","            function loadScript(url) {\n","            return new Promise(function(resolve, reject) {\n","                let newScript = document.createElement(\"script\");\n","                newScript.onerror = reject;\n","                newScript.onload = resolve;\n","                document.body.appendChild(newScript);\n","                newScript.src = url;\n","            });\n","            }\n","            loadScript(\"https://cdn.jsdelivr.net/npm/postmate/build/postmate.min.js\").then(() => {\n","            const iframe = document.createElement('iframe')\n","            iframe.style.cssText = \"width:0;height:0;border:none\"\n","            document.body.appendChild(iframe)\n","            const handshake = new Postmate({\n","                container: iframe,\n","                url: 'https://wandb.ai/authorize'\n","            });\n","            const timeout = setTimeout(() => reject(\"Couldn't auto authenticate\"), 5000)\n","            handshake.then(function(child) {\n","                child.on('authorize', data => {\n","                    clearTimeout(timeout)\n","                    resolve(data)\n","                });\n","            });\n","            })\n","        });\n","    "],"text/plain":["<IPython.core.display.Javascript object>"]},"metadata":{"tags":[]}},{"output_type":"stream","text":["\u001b[34m\u001b[1mwandb\u001b[0m: You can find your API key in your browser here: https://wandb.ai/authorize\n"],"name":"stderr"},{"output_type":"stream","text":["wandb: Paste an API key from your profile and hit enter: ··········\n"],"name":"stdout"},{"output_type":"stream","text":["\u001b[34m\u001b[1mwandb\u001b[0m: Appending key for api.wandb.ai to your netrc file: /root/.netrc\n"],"name":"stderr"},{"output_type":"execute_result","data":{"text/plain":["True"]},"metadata":{"tags":[]},"execution_count":19}]},{"cell_type":"markdown","metadata":{"id":"wgpN78WapmkR"},"source":["### Specifying settings/hyperparameters for our code below ###"]},{"cell_type":"code","metadata":{"id":"0Rp-0B0opmkR"},"source":["wandb_config = {}\n","wandb_config['batch_size'] = 10\n","wandb_config['base_lr'] = 0.01\n","wandb_config['model_arch'] = 'CustomCNN'\n","wandb_config['num_classes'] = 10\n","wandb_config['run_name'] = 'assignment_1'\n","\n","### If you are using a CPU, please set wandb_config['use_gpu'] = 0 below. However, if you are using a GPU, leave it unchanged ####\n","wandb_config['use_gpu'] = 1\n","\n","wandb_config['num_epochs'] = 2\n","wandb_config['git_dir'] = git_dir"],"execution_count":null,"outputs":[]},{"cell_type":"markdown","metadata":{"id":"pAONDMnApmkR"},"source":["By changing above, different experiments can be run. For example, you can specify which model architecture to load, which dataset you will be loading, and so on."]},{"cell_type":"markdown","metadata":{"id":"cdgYVaVppmkR"},"source":["### Data Loading ###"]},{"cell_type":"markdown","metadata":{"id":"rSeW7ZgopmkS"},"source":["The most common task many of you will be doing in your projects will be running a script on a new dataset. In PyTorch this is done using data loaders, and it is extremely important to understand this works. In next assignment, you will be writing your own dataloader. For now, we only expose you to basic data loading which for the MNIST dataset for which PyTorch provides easy functions."]},{"cell_type":"markdown","metadata":{"id":"fROn07mNpmkS"},"source":["### Let's load MNIST. The first time you run it, the dataset gets downloaded.\n"]},{"cell_type":"markdown","metadata":{"id":"A_f4QqhkpmkT"},"source":["Data Transforms tell PyTorch how to pre-process your data. Recall that images are stored with values between 0-255 usually. One very common pre-processing for images is to normalize to be 0 mean and 1 standard deviation. This pre-processing makes the task easier for neural networks. There are many, many kinds of normalization in deep learning, the most basic one being those imposed on the image data while loading it."]},{"cell_type":"code","metadata":{"id":"1EMBEhsqpmkT"},"source":["data_transforms = {}\n","data_transforms['train'] = torchvision.transforms.Compose([\n","                               torchvision.transforms.ToTensor(),\n","                               torchvision.transforms.Normalize(\n","                                 (0.1307,), (0.3081,))])\n","\n","data_transforms['test'] = torchvision.transforms.Compose([\n","                               torchvision.transforms.ToTensor(),\n","                               torchvision.transforms.Normalize(\n","                                 (0.1307,), (0.3081,))])"],"execution_count":null,"outputs":[]},{"cell_type":"markdown","metadata":{"id":"JuzzYUmjpmkT"},"source":["`torchvision.datasets.MNIST` allows you to load MNIST data. In future, we will be using our own `get_loader` function from above to load custom data. Notice that data_transforms are passed as argument while loading the data below."]},{"cell_type":"code","metadata":{"id":"Cxk66XMTpmkT"},"source":["mnist_dataset = {}\n","mnist_dataset['train'] = torchvision.datasets.MNIST('%s/datasets'%wandb_config['git_dir'], train = True, download = True, transform = data_transforms['train'])\n","mnist_dataset['test'] = torchvision.datasets.MNIST('%s/datasets'%wandb_config['git_dir'], train = False, download = True, transform = data_transforms['test'])"],"execution_count":null,"outputs":[]},{"cell_type":"markdown","metadata":{"id":"5x1f5i2GpmkU"},"source":["#### Dataset vs Dataloader"]},{"cell_type":"markdown","metadata":{"id":"Iv1WGMdfpmkU"},"source":["Most deep learning datasets are huge. Can be as large as million data points. We want to keep our GPUs free to store intermediate calculations for neural networks, like gradients. We would not be able to load a million samples into the GPU (or even CPU) and do forward or backward passes on the network. \n","\n","So, samples are loaded in batches, and this method of gradient descent is called mini-batch gradient descent. `torch.utils.data.DataLoader` allows you to specify a pytorch dataset, and makes it easy to loop over it in batches. So, we leverage this to create a data loader from our above loaded MNIST dataset. \n","\n","The dataset itself only contains lists of where to find the inputs and outputs i.e. paths. The data loader defines the logic on loading this information into the GPU/CPU and so it can be passed into the neural net."]},{"cell_type":"code","metadata":{"id":"IzAdKbw2pmkU"},"source":["data_loaders = {}\n","data_loaders['train'] = torch.utils.data.DataLoader(mnist_dataset['train'], batch_size = wandb_config['batch_size'], shuffle = True)\n","data_loaders['test'] = torch.utils.data.DataLoader(mnist_dataset['test'], batch_size = wandb_config['batch_size'], shuffle = False)\n","\n","data_sizes = {}\n","data_sizes['train'] = len(mnist_dataset['train'])\n","data_sizes['test'] = len(mnist_dataset['test'])"],"execution_count":null,"outputs":[]},{"cell_type":"markdown","metadata":{"id":"-39kO7WjpmkU"},"source":["### We will use the `get_model` functionality to load a CNN architecture."]},{"cell_type":"code","metadata":{"id":"4Efu0PhfpmkV"},"source":["model = get_model(wandb_config['model_arch'], wandb_config['num_classes'])"],"execution_count":null,"outputs":[]},{"cell_type":"markdown","metadata":{"id":"TR9UeMmvpmkV"},"source":["### Curious what the model architecture looks like?\n","\n","`get_model` is just a function in the file `res/models/models.py`. Stop here, open this file, and see what the function does."]},{"cell_type":"code","metadata":{"id":"Ibdp07pSpmkV","colab":{"base_uri":"https://localhost:8080/","height":110,"referenced_widgets":["fca4a46c3e954e9ca38032fe64608be4","88489a8378ff42acbc9be683412fe6dd","b66deffcc82643a6814dd6f018d0f008","922e59fd27c149a39987451c02477453","c8accc853b4c4e9f8b1a5b4b976b4e23"]},"executionInfo":{"status":"ok","timestamp":1612396531237,"user_tz":300,"elapsed":999,"user":{"displayName":"Spandan Madan","photoUrl":"","userId":"18305993989659529139"}},"outputId":"9417d999-4d49-441d-853f-b33eeb648649"},"source":["layout = widgets.Layout(width='auto', height='90px') #set width and height\n","\n","button = widgets.Button(description=\"Read the function?\\n Click me!\", layout=layout)\n","output = widgets.Output()\n","\n","display(button, output)\n","\n","def on_button_clicked(b):\n","    with output:\n","        print(\"As you can see, the function simply returns an object of the class CustomCNN, which is defined in res/models/CustomCNN.py\")\n","        print(\"This is our neural network model.\")\n","button.on_click(on_button_clicked)"],"execution_count":null,"outputs":[{"output_type":"display_data","data":{"application/vnd.jupyter.widget-view+json":{"model_id":"fca4a46c3e954e9ca38032fe64608be4","version_minor":0,"version_major":2},"text/plain":["Button(description='Read the function?\\n Click me!', layout=Layout(height='90px', width='auto'), style=ButtonS…"]},"metadata":{"tags":[]}},{"output_type":"display_data","data":{"application/vnd.jupyter.widget-view+json":{"model_id":"922e59fd27c149a39987451c02477453","version_minor":0,"version_major":2},"text/plain":["Output()"]},"metadata":{"tags":[]}}]},{"cell_type":"markdown","metadata":{"id":"UrUbaQqgpmkV"},"source":["#### Below we have the function which trains, tests and returns the best model weights."]},{"cell_type":"code","metadata":{"id":"1baRVJnOpmkV"},"source":["def model_pipeline(model, criterion, optimizer, dset_loaders, dset_sizes, hyperparameters):\n","    with wandb.init(project=\"HARVAR_BAI\", config=hyperparameters):\n","        if hyperparameters['run_name']:\n","            wandb.run.name = hyperparameters['run_name']\n","        config = wandb.config\n","        best_model = model\n","        best_acc = 0.0\n","        \n","        print(config)\n","        \n","        print(config.num_epochs)\n","        for epoch_num in range(config.num_epochs):\n","            wandb.log({\"Current Epoch\": epoch_num})\n","            model = train_model(model, criterion, optimizer, dset_loaders, dset_sizes, config)\n","            best_acc, best_model = test_model(model, best_acc, best_model, dset_loaders, dset_sizes, config)\n","    \n","    return best_model"],"execution_count":null,"outputs":[]},{"cell_type":"markdown","metadata":{"id":"1e7k8r9ypmkW"},"source":["#### The different steps of the train model function are annotated below inside the function. Read them step by step"]},{"cell_type":"code","metadata":{"id":"z_8fxYJ_pmkW"},"source":["def train_model(model, criterion, optimizer, dset_loaders, dset_sizes, configs):\n","    print('Starting training epoch...')\n","    best_model = model\n","    best_acc = 0.0\n","\n","    \n","    ### This tells python to track gradients. While testing weights aren't updated hence they are not stored.\n","    model.train() \n","    running_loss = 0.0\n","    running_corrects = 0\n","    iters = 0\n","    \n","    \n","    ### We loop over the data loader we created above. Simply using a for loop.\n","    for data in tqdm(dset_loaders['train']):\n","        inputs, labels = data\n","        \n","        ### If you are using a gpu, then script will move the loaded data to the GPU. \n","        ### If you are not using a gpu, ensure that wandb_configs['use_gpu'] is set to False above.\n","        if configs.use_gpu:\n","            inputs = inputs.float().cuda()\n","            labels = labels.long().cuda()\n","        else:\n","            print('WARNING: NOT USING GPU!')\n","            inputs = inputs.float()\n","            labels = labels.long()\n","\n","        \n","        ### We set the gradients to zero, then calculate the outputs, and the loss function. \n","        ### Gradients for this process are automatically calculated by PyTorch.\n","        \n","        optimizer.zero_grad()\n","        outputs = model(inputs)\n","        _, preds = torch.max(outputs.data, 1)\n","\n","        loss = criterion(outputs, labels)\n","        \n","        \n","        ### At this point, the program has calculated gradient of loss w.r.t. weights of our NN model.\n","        loss.backward()\n","        optimizer.step()\n","        \n","        ### optimizer.step() updated the models weights using calculated gradients.\n","        \n","        ### Let's store these and log them using wandb. They will be displayed in a nice online\n","        ### dashboard for you to see.\n","        \n","        iters += 1\n","        running_loss += loss.item()\n","        running_corrects += torch.sum(preds == labels.data)\n","        wandb.log({\"train_running_loss\": running_loss/float(iters*len(labels.data))})\n","        wandb.log({\"train_running_corrects\": running_corrects/float(iters*len(labels.data))})\n","\n","    epoch_loss = float(running_loss) / dset_sizes['train']\n","    epoch_acc = float(running_corrects) / float(dset_sizes['train'])\n","    wandb.log({\"train_accuracy\": epoch_acc})\n","    wandb.log({\"train_loss\": epoch_loss})\n","    return model\n","\n"],"execution_count":null,"outputs":[]},{"cell_type":"code","metadata":{"id":"qunChCjtpmkW"},"source":["def test_model(model, best_acc, best_model, dset_loaders, dset_sizes, configs):\n","    print('Starting testing epoch...')\n","    model.eval() ### tells pytorch to not store gradients as we won't be updating weights while testing.\n","\n","    running_corrects = 0\n","    iters = 0   \n","    for data in tqdm(dset_loaders['test']):\n","        inputs, labels = data\n","        if configs.use_gpu:\n","            inputs = inputs.float().cuda()\n","            labels = labels.long().cuda()\n","        else:\n","            print('WARNING: NOT USING GPU!')\n","            inputs = inputs.float()\n","            labels = labels.long()\n","\n","        \n","        outputs = model(inputs)\n","        _, preds = torch.max(outputs.data, 1)\n","        \n","        iters += 1\n","        running_corrects += torch.sum(preds == labels.data)\n","        wandb.log({\"train_running_corrects\": running_corrects/float(iters*len(labels.data))})\n","\n","\n","    epoch_acc = float(running_corrects) / float(dset_sizes['test'])\n","\n","    wandb.log({\"test_accuracy\": epoch_acc})\n","    \n","    ### Code is very similar to train set. One major difference, we don't update weights. \n","    ### We only check the performance is best so far, if so, we save this model as the best model so far.\n","    \n","    if epoch_acc > best_acc:\n","        best_acc = epoch_acc\n","        best_model = copy.deepcopy(model)\n","    wandb.log({\"best_accuracy\": best_acc})\n","    \n","    return best_acc, best_model\n","    "],"execution_count":null,"outputs":[]},{"cell_type":"markdown","metadata":{"id":"3MTFyOmoL1Tu"},"source":["# Make sure your runtime is GPU. If you changed your run time, make sure to run your code again from the top."]},{"cell_type":"code","metadata":{"id":"91_E7yQ8pmkY","colab":{"base_uri":"https://localhost:8080/","height":331},"executionInfo":{"status":"error","timestamp":1612396533426,"user_tz":300,"elapsed":774,"user":{"displayName":"Spandan Madan","photoUrl":"","userId":"18305993989659529139"}},"outputId":"6b6a18bd-58c1-4eff-95e3-e4b028ac3c8c"},"source":["### Criterion is simply specifying what loss to use. Here we choose cross entropy loss. \n","criterion = nn.CrossEntropyLoss()\n","\n","### tells what optimizer to use. There are many options, we here choose Adam.\n","### the main difference between optimizers is that they vary in how weights are updated based on calculated gradients.\n","optimizer_ft = optim.Adam(model.parameters(), lr = wandb_config['base_lr'])\n","\n","if wandb_config['use_gpu']:\n","    criterion.cuda()\n","    model.cuda()"],"execution_count":null,"outputs":[{"output_type":"error","ename":"RuntimeError","evalue":"ignored","traceback":["\u001b[0;31m---------------------------------------------------------------------------\u001b[0m","\u001b[0;31mRuntimeError\u001b[0m                              Traceback (most recent call last)","\u001b[0;32m<ipython-input-29-3994758fdf9e>\u001b[0m in \u001b[0;36m<module>\u001b[0;34m()\u001b[0m\n\u001b[1;32m      8\u001b[0m \u001b[0;32mif\u001b[0m \u001b[0mwandb_config\u001b[0m\u001b[0;34m[\u001b[0m\u001b[0;34m'use_gpu'\u001b[0m\u001b[0;34m]\u001b[0m\u001b[0;34m:\u001b[0m\u001b[0;34m\u001b[0m\u001b[0;34m\u001b[0m\u001b[0m\n\u001b[1;32m      9\u001b[0m     \u001b[0mcriterion\u001b[0m\u001b[0;34m.\u001b[0m\u001b[0mcuda\u001b[0m\u001b[0;34m(\u001b[0m\u001b[0;34m)\u001b[0m\u001b[0;34m\u001b[0m\u001b[0;34m\u001b[0m\u001b[0m\n\u001b[0;32m---> 10\u001b[0;31m     \u001b[0mmodel\u001b[0m\u001b[0;34m.\u001b[0m\u001b[0mcuda\u001b[0m\u001b[0;34m(\u001b[0m\u001b[0;34m)\u001b[0m\u001b[0;34m\u001b[0m\u001b[0;34m\u001b[0m\u001b[0m\n\u001b[0m","\u001b[0;32m/usr/local/lib/python3.6/dist-packages/torch/nn/modules/module.py\u001b[0m in \u001b[0;36mcuda\u001b[0;34m(self, device)\u001b[0m\n\u001b[1;32m    461\u001b[0m             \u001b[0mModule\u001b[0m\u001b[0;34m:\u001b[0m \u001b[0mself\u001b[0m\u001b[0;34m\u001b[0m\u001b[0;34m\u001b[0m\u001b[0m\n\u001b[1;32m    462\u001b[0m         \"\"\"\n\u001b[0;32m--> 463\u001b[0;31m         \u001b[0;32mreturn\u001b[0m \u001b[0mself\u001b[0m\u001b[0;34m.\u001b[0m\u001b[0m_apply\u001b[0m\u001b[0;34m(\u001b[0m\u001b[0;32mlambda\u001b[0m \u001b[0mt\u001b[0m\u001b[0;34m:\u001b[0m \u001b[0mt\u001b[0m\u001b[0;34m.\u001b[0m\u001b[0mcuda\u001b[0m\u001b[0;34m(\u001b[0m\u001b[0mdevice\u001b[0m\u001b[0;34m)\u001b[0m\u001b[0;34m)\u001b[0m\u001b[0;34m\u001b[0m\u001b[0;34m\u001b[0m\u001b[0m\n\u001b[0m\u001b[1;32m    464\u001b[0m \u001b[0;34m\u001b[0m\u001b[0m\n\u001b[1;32m    465\u001b[0m     \u001b[0;32mdef\u001b[0m \u001b[0mcpu\u001b[0m\u001b[0;34m(\u001b[0m\u001b[0mself\u001b[0m\u001b[0;34m:\u001b[0m \u001b[0mT\u001b[0m\u001b[0;34m)\u001b[0m \u001b[0;34m->\u001b[0m \u001b[0mT\u001b[0m\u001b[0;34m:\u001b[0m\u001b[0;34m\u001b[0m\u001b[0;34m\u001b[0m\u001b[0m\n","\u001b[0;32m/usr/local/lib/python3.6/dist-packages/torch/nn/modules/module.py\u001b[0m in \u001b[0;36m_apply\u001b[0;34m(self, fn)\u001b[0m\n\u001b[1;32m    357\u001b[0m     \u001b[0;32mdef\u001b[0m \u001b[0m_apply\u001b[0m\u001b[0;34m(\u001b[0m\u001b[0mself\u001b[0m\u001b[0;34m,\u001b[0m \u001b[0mfn\u001b[0m\u001b[0;34m)\u001b[0m\u001b[0;34m:\u001b[0m\u001b[0;34m\u001b[0m\u001b[0;34m\u001b[0m\u001b[0m\n\u001b[1;32m    358\u001b[0m         \u001b[0;32mfor\u001b[0m \u001b[0mmodule\u001b[0m \u001b[0;32min\u001b[0m \u001b[0mself\u001b[0m\u001b[0;34m.\u001b[0m\u001b[0mchildren\u001b[0m\u001b[0;34m(\u001b[0m\u001b[0;34m)\u001b[0m\u001b[0;34m:\u001b[0m\u001b[0;34m\u001b[0m\u001b[0;34m\u001b[0m\u001b[0m\n\u001b[0;32m--> 359\u001b[0;31m             \u001b[0mmodule\u001b[0m\u001b[0;34m.\u001b[0m\u001b[0m_apply\u001b[0m\u001b[0;34m(\u001b[0m\u001b[0mfn\u001b[0m\u001b[0;34m)\u001b[0m\u001b[0;34m\u001b[0m\u001b[0;34m\u001b[0m\u001b[0m\n\u001b[0m\u001b[1;32m    360\u001b[0m \u001b[0;34m\u001b[0m\u001b[0m\n\u001b[1;32m    361\u001b[0m         \u001b[0;32mdef\u001b[0m \u001b[0mcompute_should_use_set_data\u001b[0m\u001b[0;34m(\u001b[0m\u001b[0mtensor\u001b[0m\u001b[0;34m,\u001b[0m \u001b[0mtensor_applied\u001b[0m\u001b[0;34m)\u001b[0m\u001b[0;34m:\u001b[0m\u001b[0;34m\u001b[0m\u001b[0;34m\u001b[0m\u001b[0m\n","\u001b[0;32m/usr/local/lib/python3.6/dist-packages/torch/nn/modules/module.py\u001b[0m in \u001b[0;36m_apply\u001b[0;34m(self, fn)\u001b[0m\n\u001b[1;32m    379\u001b[0m                 \u001b[0;31m# `with torch.no_grad():`\u001b[0m\u001b[0;34m\u001b[0m\u001b[0;34m\u001b[0m\u001b[0;34m\u001b[0m\u001b[0m\n\u001b[1;32m    380\u001b[0m                 \u001b[0;32mwith\u001b[0m \u001b[0mtorch\u001b[0m\u001b[0;34m.\u001b[0m\u001b[0mno_grad\u001b[0m\u001b[0;34m(\u001b[0m\u001b[0;34m)\u001b[0m\u001b[0;34m:\u001b[0m\u001b[0;34m\u001b[0m\u001b[0;34m\u001b[0m\u001b[0m\n\u001b[0;32m--> 381\u001b[0;31m                     \u001b[0mparam_applied\u001b[0m \u001b[0;34m=\u001b[0m \u001b[0mfn\u001b[0m\u001b[0;34m(\u001b[0m\u001b[0mparam\u001b[0m\u001b[0;34m)\u001b[0m\u001b[0;34m\u001b[0m\u001b[0;34m\u001b[0m\u001b[0m\n\u001b[0m\u001b[1;32m    382\u001b[0m                 \u001b[0mshould_use_set_data\u001b[0m \u001b[0;34m=\u001b[0m \u001b[0mcompute_should_use_set_data\u001b[0m\u001b[0;34m(\u001b[0m\u001b[0mparam\u001b[0m\u001b[0;34m,\u001b[0m \u001b[0mparam_applied\u001b[0m\u001b[0;34m)\u001b[0m\u001b[0;34m\u001b[0m\u001b[0;34m\u001b[0m\u001b[0m\n\u001b[1;32m    383\u001b[0m                 \u001b[0;32mif\u001b[0m \u001b[0mshould_use_set_data\u001b[0m\u001b[0;34m:\u001b[0m\u001b[0;34m\u001b[0m\u001b[0;34m\u001b[0m\u001b[0m\n","\u001b[0;32m/usr/local/lib/python3.6/dist-packages/torch/nn/modules/module.py\u001b[0m in \u001b[0;36m<lambda>\u001b[0;34m(t)\u001b[0m\n\u001b[1;32m    461\u001b[0m             \u001b[0mModule\u001b[0m\u001b[0;34m:\u001b[0m \u001b[0mself\u001b[0m\u001b[0;34m\u001b[0m\u001b[0;34m\u001b[0m\u001b[0m\n\u001b[1;32m    462\u001b[0m         \"\"\"\n\u001b[0;32m--> 463\u001b[0;31m         \u001b[0;32mreturn\u001b[0m \u001b[0mself\u001b[0m\u001b[0;34m.\u001b[0m\u001b[0m_apply\u001b[0m\u001b[0;34m(\u001b[0m\u001b[0;32mlambda\u001b[0m \u001b[0mt\u001b[0m\u001b[0;34m:\u001b[0m \u001b[0mt\u001b[0m\u001b[0;34m.\u001b[0m\u001b[0mcuda\u001b[0m\u001b[0;34m(\u001b[0m\u001b[0mdevice\u001b[0m\u001b[0;34m)\u001b[0m\u001b[0;34m)\u001b[0m\u001b[0;34m\u001b[0m\u001b[0;34m\u001b[0m\u001b[0m\n\u001b[0m\u001b[1;32m    464\u001b[0m \u001b[0;34m\u001b[0m\u001b[0m\n\u001b[1;32m    465\u001b[0m     \u001b[0;32mdef\u001b[0m \u001b[0mcpu\u001b[0m\u001b[0;34m(\u001b[0m\u001b[0mself\u001b[0m\u001b[0;34m:\u001b[0m \u001b[0mT\u001b[0m\u001b[0;34m)\u001b[0m \u001b[0;34m->\u001b[0m \u001b[0mT\u001b[0m\u001b[0;34m:\u001b[0m\u001b[0;34m\u001b[0m\u001b[0;34m\u001b[0m\u001b[0m\n","\u001b[0;32m/usr/local/lib/python3.6/dist-packages/torch/cuda/__init__.py\u001b[0m in \u001b[0;36m_lazy_init\u001b[0;34m()\u001b[0m\n\u001b[1;32m    170\u001b[0m         \u001b[0;31m# This function throws if there's a driver initialization error, no GPUs\u001b[0m\u001b[0;34m\u001b[0m\u001b[0;34m\u001b[0m\u001b[0;34m\u001b[0m\u001b[0m\n\u001b[1;32m    171\u001b[0m         \u001b[0;31m# are found or any other error occurs\u001b[0m\u001b[0;34m\u001b[0m\u001b[0;34m\u001b[0m\u001b[0;34m\u001b[0m\u001b[0m\n\u001b[0;32m--> 172\u001b[0;31m         \u001b[0mtorch\u001b[0m\u001b[0;34m.\u001b[0m\u001b[0m_C\u001b[0m\u001b[0;34m.\u001b[0m\u001b[0m_cuda_init\u001b[0m\u001b[0;34m(\u001b[0m\u001b[0;34m)\u001b[0m\u001b[0;34m\u001b[0m\u001b[0;34m\u001b[0m\u001b[0m\n\u001b[0m\u001b[1;32m    173\u001b[0m         \u001b[0;31m# Some of the queued calls may reentrantly call _lazy_init();\u001b[0m\u001b[0;34m\u001b[0m\u001b[0;34m\u001b[0m\u001b[0;34m\u001b[0m\u001b[0m\n\u001b[1;32m    174\u001b[0m         \u001b[0;31m# we need to just return without initializing in that case.\u001b[0m\u001b[0;34m\u001b[0m\u001b[0;34m\u001b[0m\u001b[0;34m\u001b[0m\u001b[0m\n","\u001b[0;31mRuntimeError\u001b[0m: No CUDA GPUs are available"]}]},{"cell_type":"code","metadata":{"id":"Yt5ctNudpmkY"},"source":["### Creating the folder where our models will be saved.\n","if not os.path.isdir(\"%s/saved_models/\"%wandb_config['git_dir']):\n","    os.mkdir(\"%s/saved_models/\"%wandb_config['git_dir'])"],"execution_count":null,"outputs":[]},{"cell_type":"code","metadata":{"id":"accYgj_-pmkY","colab":{"base_uri":"https://localhost:8080/","height":214,"referenced_widgets":["dbeb947a70814510976ef5fd8e34f295","45d3b0afa0f14a07b20fc371acd3ba6b","52abe6174af24061831094b1207cd843","e1d9b05fed70487a93aeb75e81726e4c","bcdfb20486404cd8aac5efaa70b8ba2b","55a8da2af315484cbee80493aa0a2d34","8ed09a2afd9b4dc59ecf92df757d1b53","021623db8dbb48328ee893b3794886b1"]},"outputId":"526c3436-219d-435d-ce45-ad96a1162b7b"},"source":["### Let's run it all, and save the final best model.\n","\n","\n","best_final_model = model_pipeline(model, criterion, optimizer_ft, data_loaders, data_sizes, wandb_config)\n","\n","\n","save_path = '%s/saved_models/%s_final.pt'%(wandb_config['git_dir'], wandb_config['run_name'])\n","with open(save_path,'wb') as F:\n","    torch.save(best_final_model,F)"],"execution_count":null,"outputs":[{"output_type":"stream","text":["\u001b[34m\u001b[1mwandb\u001b[0m: Currently logged in as: \u001b[33mspandanmadan\u001b[0m (use `wandb login --relogin` to force relogin)\n"],"name":"stderr"},{"output_type":"display_data","data":{"text/html":["\n","                Tracking run with wandb version 0.10.17<br/>\n","                Syncing run <strong style=\"color:#cdcd00\">morning-frog-7</strong> to <a href=\"https://wandb.ai\" target=\"_blank\">Weights & Biases</a> <a href=\"https://docs.wandb.com/integrations/jupyter.html\" target=\"_blank\">(Documentation)</a>.<br/>\n","                Project page: <a href=\"https://wandb.ai/spandanmadan/HARVAR_BAI\" target=\"_blank\">https://wandb.ai/spandanmadan/HARVAR_BAI</a><br/>\n","                Run page: <a href=\"https://wandb.ai/spandanmadan/HARVAR_BAI/runs/1aluism0\" target=\"_blank\">https://wandb.ai/spandanmadan/HARVAR_BAI/runs/1aluism0</a><br/>\n","                Run data is saved locally in <code>/content/wandb/run-20210203_235533-1aluism0</code><br/><br/>\n","            "],"text/plain":["<IPython.core.display.HTML object>"]},"metadata":{"tags":[]}},{"output_type":"stream","text":["{'batch_size': 10, 'base_lr': 0.01, 'model_arch': 'CustomCNN', 'num_classes': 10, 'run_name': 'assignment_1', 'use_gpu': 1, 'num_epochs': 2, 'git_dir': '/content/drive/MyDrive/Harvard_BAI'}\n","2\n","Starting training epoch...\n"],"name":"stdout"},{"output_type":"display_data","data":{"application/vnd.jupyter.widget-view+json":{"model_id":"dbeb947a70814510976ef5fd8e34f295","version_minor":0,"version_major":2},"text/plain":["HBox(children=(FloatProgress(value=0.0, max=6000.0), HTML(value='')))"]},"metadata":{"tags":[]}}]},{"cell_type":"markdown","metadata":{"id":"zcxInTMApmkZ"},"source":["### Congratulations!\n","\n","You just completed your first deep learning program - image classification for MNIST. This wraps up assignment 1. In the next assignment, we will see how you can make changes to above mentioned folders/files to adapt this code-base to your own research project."]},{"cell_type":"markdown","metadata":{"id":"tUC8UOzYpmkZ"},"source":["# Deliverables for Assignment 1: \n","\n","### Please run this assignment through to the end, and then make two submissions:\n","\n","- Download this notebook as an HTML file. Click File ---> Download as ---> HTML. Submit this on canvas.\n","- Add, commit and push these changes to your github repository."]},{"cell_type":"code","metadata":{"colab":{"base_uri":"https://localhost:8080/","height":34},"id":"GrRvk7KnMPhE","executionInfo":{"status":"ok","timestamp":1612746665411,"user_tz":300,"elapsed":275,"user":{"displayName":"Spandan Madan","photoUrl":"","userId":"18305993989659529139"}},"outputId":"265d8ea9-e075-4949-fd05-c5d11864c485"},"source":[""],"execution_count":4,"outputs":[{"output_type":"execute_result","data":{"application/vnd.google.colaboratory.intrinsic+json":{"type":"string"},"text/plain":["'/content'"]},"metadata":{"tags":[]},"execution_count":4}]},{"cell_type":"code","metadata":{"id":"o2-KxcyFMRck"},"source":[""],"execution_count":null,"outputs":[]}]}
>>>>>>> upstream/main
